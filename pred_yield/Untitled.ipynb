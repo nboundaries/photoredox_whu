{
 "cells": [
  {
   "cell_type": "code",
   "execution_count": 1,
   "id": "1eeb3587",
   "metadata": {},
   "outputs": [],
   "source": [
    "import pickle\n",
    "file = r'E:\\projects\\photocatalysis_whu\\pred_yield\\data\\catalyst_reagent_set.pkl'\n",
    "with open(file, 'rb') as f:\n",
    "    data = pickle.load(f)"
   ]
  },
  {
   "cell_type": "markdown",
   "id": "62ea3b3b",
   "metadata": {},
   "source": [
    "## 催化剂+试剂分子数量，看着不太对"
   ]
  },
  {
   "cell_type": "code",
   "execution_count": 13,
   "id": "95b8d975",
   "metadata": {},
   "outputs": [
    {
     "data": {
      "text/plain": [
       "518"
      ]
     },
     "execution_count": 13,
     "metadata": {},
     "output_type": "execute_result"
    }
   ],
   "source": [
    "len(set(data))"
   ]
  },
  {
   "cell_type": "code",
   "execution_count": 5,
   "id": "34e8d2ac",
   "metadata": {},
   "outputs": [],
   "source": [
    "import torch\n",
    "all_mols_file = r'E:\\projects\\photocatalysis_whu\\pred_yield\\data\\mol_all_molclr512_clean.pt'\n",
    "all_mols = torch.load(all_mols_file)"
   ]
  },
  {
   "cell_type": "markdown",
   "id": "2cd22bc1",
   "metadata": {},
   "source": [
    "# len(all_mols.keys())"
   ]
  },
  {
   "cell_type": "code",
   "execution_count": 14,
   "id": "2a16e5e9",
   "metadata": {},
   "outputs": [
    {
     "name": "stdout",
     "output_type": "stream",
     "text": [
      "19781\n"
     ]
    }
   ],
   "source": [
    "print(len(all_mols.keys()))"
   ]
  },
  {
   "cell_type": "code",
   "execution_count": 12,
   "id": "384b05d2",
   "metadata": {},
   "outputs": [],
   "source": [
    "s1 = 'CC(C)(C)c1ccnc(-c2cc(C(C)(C)C)ccn2)c1.F[P-](F)(F)(F)(F)F.Fc1c[c-]c(-c2ccc(C(F)(F)F)cn2)c(F)c1.Fc1c[c-]c(-c2ccc(C(F)(F)F)cn2)c(F)c1.[Ir+3]'\n",
    "s2 = 'O=S([O-])[N+]12CC[N+](S(=O)[O-])(CC1)CC2'\n",
    "for k in data:\n",
    "    x = all_mols[k]"
   ]
  },
  {
   "cell_type": "code",
   "execution_count": 56,
   "id": "47c27dc1",
   "metadata": {},
   "outputs": [
    {
     "name": "stderr",
     "output_type": "stream",
     "text": [
      "11069it [00:00, 28164.89it/s]"
     ]
    },
    {
     "name": "stdout",
     "output_type": "stream",
     "text": [
      "18009\n"
     ]
    },
    {
     "name": "stderr",
     "output_type": "stream",
     "text": [
      "\n"
     ]
    }
   ],
   "source": [
    "import csv\n",
    "from tqdm import tqdm\n",
    "sci_data = r'E:\\projects\\photocatalysis_whu\\data\\scifinder_clean.csv'\n",
    "f = open(sci_data, 'r')\n",
    "reader = csv.reader(f)\n",
    "header = next(reader)\n",
    "r_index = header.index('Reactants_Smiles')\n",
    "p_index = header.index('Products_Smiles')\n",
    "c_index = header.index('Catalysts_Smiles')\n",
    "rg_index = header.index('Reagents_Smiles')\n",
    "y_index = header.index('Yield')\n",
    "\n",
    "all_mols = []\n",
    "for row in tqdm(reader):\n",
    "    reactants = eval(row[r_index])\n",
    "    products = eval(row[p_index])\n",
    "    catalysts = eval(row[c_index])\n",
    "    reagents = eval(row[rg_index])\n",
    "    y = eval(row[y_index])\n",
    "    rxn_mols = reactants + products + catalysts + reagents\n",
    "    all_mols.extend(rxn_mols)\n",
    "f.close()\n",
    "\n",
    "print(len(set(all_mols)))   \n",
    "out_data = r'E:\\projects\\photocatalysis_whu\\data\\scifinder_clean_mols.csv'\n",
    "\n",
    "f = open(out_data, 'w', newline='')\n",
    "writer = csv.writer(f)\n",
    "writer.writerow(['smiles'])\n",
    "for m in set(all_mols):\n",
    "    writer.writerow([m])\n",
    "f.close()"
   ]
  },
  {
   "cell_type": "code",
   "execution_count": 49,
   "id": "15da410a",
   "metadata": {},
   "outputs": [],
   "source": [
    "import torch\n",
    "all_mols_file = r'E:\\projects\\photocatalysis_whu\\pred_yield\\data\\mol_all_molclr512_clean.pt'\n",
    "all_mols_dict = torch.load(all_mols_file)\n",
    "for k in all_mols_dict:\n",
    "    x = all_mols_dict[k]"
   ]
  },
  {
   "cell_type": "code",
   "execution_count": 57,
   "id": "43e95fcc",
   "metadata": {},
   "outputs": [],
   "source": [
    "file = r\"E:\\projects\\photocatalysis_whu\\pred_yield\\scifinder_clean.pkl\"\n",
    "with open(file, 'rb') as f:\n",
    "    data = pickle.load(f)"
   ]
  },
  {
   "cell_type": "code",
   "execution_count": 60,
   "id": "5df676ac",
   "metadata": {
    "scrolled": true
   },
   "outputs": [
    {
     "data": {
      "text/html": [
       "<div>\n",
       "<style scoped>\n",
       "    .dataframe tbody tr th:only-of-type {\n",
       "        vertical-align: middle;\n",
       "    }\n",
       "\n",
       "    .dataframe tbody tr th {\n",
       "        vertical-align: top;\n",
       "    }\n",
       "\n",
       "    .dataframe thead th {\n",
       "        text-align: right;\n",
       "    }\n",
       "</style>\n",
       "<table border=\"1\" class=\"dataframe\">\n",
       "  <thead>\n",
       "    <tr style=\"text-align: right;\">\n",
       "      <th></th>\n",
       "      <th>Reactants_Smiles</th>\n",
       "      <th>Products_Smiles</th>\n",
       "      <th>Reagents_Smiles</th>\n",
       "      <th>Catalysts_Smiles</th>\n",
       "      <th>Steps</th>\n",
       "      <th>Stages</th>\n",
       "      <th>Yield</th>\n",
       "      <th>Notes</th>\n",
       "      <th>Title</th>\n",
       "      <th>Type</th>\n",
       "      <th>ori_row_number</th>\n",
       "    </tr>\n",
       "  </thead>\n",
       "  <tbody>\n",
       "    <tr>\n",
       "      <th>0</th>\n",
       "      <td>[CCOC(=O)C1=C(C)NC(C)=C(C(=O)OCC)C1C(=O)NC(C)C...</td>\n",
       "      <td>[C=C(CC(=O)NC(C)C(=O)OC)C(=O)OCC]</td>\n",
       "      <td>[OCC(F)(F)F]</td>\n",
       "      <td>[CC(C)(C)c1ccnc(-c2cc(C(C)(C)C)ccn2)c1.FC1=C[C...</td>\n",
       "      <td>1</td>\n",
       "      <td>2</td>\n",
       "      <td>0.99</td>\n",
       "      <td>chemoselective, photochemical, regioselective...</td>\n",
       "      <td>Site-selective itaconation of complex peptide...</td>\n",
       "      <td>NaN</td>\n",
       "      <td>2</td>\n",
       "    </tr>\n",
       "    <tr>\n",
       "      <th>1</th>\n",
       "      <td>[C=CCOc1cc(C(=O)OC)ccc1I]</td>\n",
       "      <td>[COC(=O)c1ccc2c(c1)OCC2C]</td>\n",
       "      <td>[O=CO, O=C[O-].[Na+], C[S-].[Na+], O=C(O)O.[K]...</td>\n",
       "      <td>[N#Cc1c(-n2c3ccccc3c3ccccc32)c(C#N)c(-n2c3cccc...</td>\n",
       "      <td>1</td>\n",
       "      <td>2</td>\n",
       "      <td>0.99</td>\n",
       "      <td>photochemical, blue LED light used, sealed tu...</td>\n",
       "      <td>Switchable Regioselective 6-endo or 5-exo Rad...</td>\n",
       "      <td>NaN</td>\n",
       "      <td>3</td>\n",
       "    </tr>\n",
       "    <tr>\n",
       "      <th>2</th>\n",
       "      <td>[COC(=O)C1(c2ccc(F)c3ccccc23)CC1]</td>\n",
       "      <td>[COC(=O)C1CCc2cccc3c(F)ccc1c23]</td>\n",
       "      <td>[CN(C)Cc1ccccc1, Cc1ccccc1]</td>\n",
       "      <td>[Fc1c[c-]c(-c2ccccn2)c(F)c1.Fc1c[c-]c(-c2ccccn...</td>\n",
       "      <td>1</td>\n",
       "      <td>1</td>\n",
       "      <td>0.99</td>\n",
       "      <td>photochemical, regioselective, blue LED (45 W...</td>\n",
       "      <td>Visible-Light Induced Photoannulation of α-Na...</td>\n",
       "      <td>NaN</td>\n",
       "      <td>4</td>\n",
       "    </tr>\n",
       "    <tr>\n",
       "      <th>3</th>\n",
       "      <td>[COC(=O)C1(c2ccc(O[Si](C)(C)C(C)(C)C)c3ccccc23...</td>\n",
       "      <td>[COC(=O)C1CCc2cccc3c(O[Si](C)(C)C(C)(C)C)ccc1c23]</td>\n",
       "      <td>[CN(C)Cc1ccccc1, Cc1ccccc1]</td>\n",
       "      <td>[Fc1c[c-]c(-c2ccccn2)c(F)c1.Fc1c[c-]c(-c2ccccn...</td>\n",
       "      <td>1</td>\n",
       "      <td>1</td>\n",
       "      <td>0.99</td>\n",
       "      <td>photochemical, regioselective, blue LED (45 W...</td>\n",
       "      <td>Visible-Light Induced Photoannulation of α-Na...</td>\n",
       "      <td>NaN</td>\n",
       "      <td>5</td>\n",
       "    </tr>\n",
       "    <tr>\n",
       "      <th>4</th>\n",
       "      <td>[C=CCN(C(=O)OC(C)(C)C)c1cccnc1Br]</td>\n",
       "      <td>[CC1CN(C(=O)OC(C)(C)C)c2cccnc21]</td>\n",
       "      <td>[O=CO, O=C[O-].[Na+], C[S-].[Na+], O=C(O)O.[K]...</td>\n",
       "      <td>[N#Cc1c(-n2c3ccccc3c3ccccc32)c(C#N)c(-n2c3cccc...</td>\n",
       "      <td>1</td>\n",
       "      <td>2</td>\n",
       "      <td>0.98</td>\n",
       "      <td>photochemical, blue LED light used, sealed tu...</td>\n",
       "      <td>Switchable Regioselective 6-endo or 5-exo Rad...</td>\n",
       "      <td>NaN</td>\n",
       "      <td>6</td>\n",
       "    </tr>\n",
       "  </tbody>\n",
       "</table>\n",
       "</div>"
      ],
      "text/plain": [
       "                                    Reactants_Smiles  \\\n",
       "0  [CCOC(=O)C1=C(C)NC(C)=C(C(=O)OCC)C1C(=O)NC(C)C...   \n",
       "1                          [C=CCOc1cc(C(=O)OC)ccc1I]   \n",
       "2                  [COC(=O)C1(c2ccc(F)c3ccccc23)CC1]   \n",
       "3  [COC(=O)C1(c2ccc(O[Si](C)(C)C(C)(C)C)c3ccccc23...   \n",
       "4                  [C=CCN(C(=O)OC(C)(C)C)c1cccnc1Br]   \n",
       "\n",
       "                                     Products_Smiles  \\\n",
       "0                  [C=C(CC(=O)NC(C)C(=O)OC)C(=O)OCC]   \n",
       "1                          [COC(=O)c1ccc2c(c1)OCC2C]   \n",
       "2                    [COC(=O)C1CCc2cccc3c(F)ccc1c23]   \n",
       "3  [COC(=O)C1CCc2cccc3c(O[Si](C)(C)C(C)(C)C)ccc1c23]   \n",
       "4                   [CC1CN(C(=O)OC(C)(C)C)c2cccnc21]   \n",
       "\n",
       "                                     Reagents_Smiles  \\\n",
       "0                                       [OCC(F)(F)F]   \n",
       "1  [O=CO, O=C[O-].[Na+], C[S-].[Na+], O=C(O)O.[K]...   \n",
       "2                        [CN(C)Cc1ccccc1, Cc1ccccc1]   \n",
       "3                        [CN(C)Cc1ccccc1, Cc1ccccc1]   \n",
       "4  [O=CO, O=C[O-].[Na+], C[S-].[Na+], O=C(O)O.[K]...   \n",
       "\n",
       "                                    Catalysts_Smiles  Steps  Stages  Yield  \\\n",
       "0  [CC(C)(C)c1ccnc(-c2cc(C(C)(C)C)ccn2)c1.FC1=C[C...      1       2   0.99   \n",
       "1  [N#Cc1c(-n2c3ccccc3c3ccccc32)c(C#N)c(-n2c3cccc...      1       2   0.99   \n",
       "2  [Fc1c[c-]c(-c2ccccn2)c(F)c1.Fc1c[c-]c(-c2ccccn...      1       1   0.99   \n",
       "3  [Fc1c[c-]c(-c2ccccn2)c(F)c1.Fc1c[c-]c(-c2ccccn...      1       1   0.99   \n",
       "4  [N#Cc1c(-n2c3ccccc3c3ccccc32)c(C#N)c(-n2c3cccc...      1       2   0.98   \n",
       "\n",
       "                                               Notes  \\\n",
       "0   chemoselective, photochemical, regioselective...   \n",
       "1   photochemical, blue LED light used, sealed tu...   \n",
       "2   photochemical, regioselective, blue LED (45 W...   \n",
       "3   photochemical, regioselective, blue LED (45 W...   \n",
       "4   photochemical, blue LED light used, sealed tu...   \n",
       "\n",
       "                                               Title Type  ori_row_number  \n",
       "0   Site-selective itaconation of complex peptide...  NaN               2  \n",
       "1   Switchable Regioselective 6-endo or 5-exo Rad...  NaN               3  \n",
       "2   Visible-Light Induced Photoannulation of α-Na...  NaN               4  \n",
       "3   Visible-Light Induced Photoannulation of α-Na...  NaN               5  \n",
       "4   Switchable Regioselective 6-endo or 5-exo Rad...  NaN               6  "
      ]
     },
     "execution_count": 60,
     "metadata": {},
     "output_type": "execute_result"
    }
   ],
   "source": [
    "data.head()"
   ]
  },
  {
   "cell_type": "code",
   "execution_count": 71,
   "id": "3214c403",
   "metadata": {},
   "outputs": [
    {
     "name": "stdout",
     "output_type": "stream",
     "text": [
      "[Na+]\n"
     ]
    }
   ],
   "source": [
    "file = r\"E:\\projects\\photocatalysis_whu\\pred_yield\\data\\catalyst_reagent_set.pt\"\n",
    "data = torch.load(file)\n",
    "len(data.keys())\n",
    "print(list(data.keys())[0])"
   ]
  },
  {
   "cell_type": "code",
   "execution_count": 70,
   "id": "e34583d7",
   "metadata": {},
   "outputs": [
    {
     "data": {
      "text/plain": [
       "torch.Size([512])"
      ]
     },
     "execution_count": 70,
     "metadata": {},
     "output_type": "execute_result"
    }
   ],
   "source": [
    "data['[2H]C([2H])([2H])C#N'].shape"
   ]
  },
  {
   "cell_type": "code",
   "execution_count": 80,
   "id": "ea0e7819",
   "metadata": {},
   "outputs": [
    {
     "name": "stdout",
     "output_type": "stream",
     "text": [
      "19\n",
      "16\n",
      "26\n",
      "29\n"
     ]
    }
   ],
   "source": [
    "import rdkit\n",
    "from rdkit import Chem\n",
    "s1 = 'c1cc2ccc3cccc4ccc(c1)c2c34'\n",
    "m1 = Chem.MolFromSmiles(s1)\n",
    "print(m1.GetNumBonds())\n",
    "print(m1.GetNumAtoms())\n",
    "m1 = Chem.AddHs(m1)\n",
    "print(m1.GetNumAtoms())\n",
    "print(m1.GetNumBonds())"
   ]
  },
  {
   "cell_type": "code",
   "execution_count": 78,
   "id": "c7f4a464",
   "metadata": {},
   "outputs": [
    {
     "name": "stderr",
     "output_type": "stream",
     "text": [
      "[09:49:32] SMILES Parse Error: syntax error while parsing: OC[C@H]1O[C@H](OP(O)(=O)OP(O)(=O)OC[C@H]2O[C@H]([C@H](O)[C@@H]2O)N2C=CC(=O)NC2=O)[C@H](O)[C@@H](O)C1=O>>C[C@@H]1O[C@H](OP(O)(=O)OP(O)(=O)OC[C@H]2O[C@H]([C@H](O)[C@@H]2O)N2C=NC3=C2N=C(N)NC3=O)[C@H](O)[C@H](O)[C@H]1O\n",
      "[09:49:32] SMILES Parse Error: Failed parsing SMILES 'OC[C@H]1O[C@H](OP(O)(=O)OP(O)(=O)OC[C@H]2O[C@H]([C@H](O)[C@@H]2O)N2C=CC(=O)NC2=O)[C@H](O)[C@@H](O)C1=O>>C[C@@H]1O[C@H](OP(O)(=O)OP(O)(=O)OC[C@H]2O[C@H]([C@H](O)[C@@H]2O)N2C=NC3=C2N=C(N)NC3=O)[C@H](O)[C@H](O)[C@H]1O' for input: 'OC[C@H]1O[C@H](OP(O)(=O)OP(O)(=O)OC[C@H]2O[C@H]([C@H](O)[C@@H]2O)N2C=CC(=O)NC2=O)[C@H](O)[C@@H](O)C1=O>>C[C@@H]1O[C@H](OP(O)(=O)OP(O)(=O)OC[C@H]2O[C@H]([C@H](O)[C@@H]2O)N2C=NC3=C2N=C(N)NC3=O)[C@H](O)[C@H](O)[C@H]1O'\n"
     ]
    }
   ],
   "source": [
    "s2 = 'OC[C@H]1O[C@H](OP(O)(=O)OP(O)(=O)OC[C@H]2O[C@H]([C@H](O)[C@@H]2O)N2C=CC(=O)NC2=O)[C@H](O)[C@@H](O)C1=O>>C[C@@H]1O[C@H](OP(O)(=O)OP(O)(=O)OC[C@H]2O[C@H]([C@H](O)[C@@H]2O)N2C=NC3=C2N=C(N)NC3=O)[C@H](O)[C@H](O)[C@H]1O'\n",
    "m2 = Chem.MolFromSmiles(s2)"
   ]
  },
  {
   "cell_type": "code",
   "execution_count": 136,
   "id": "cbcc0b2e",
   "metadata": {},
   "outputs": [
    {
     "name": "stdout",
     "output_type": "stream",
     "text": [
      "Running on: cpu\n",
      "Using GIN model.\n",
      "Loaded pre-trained model with success.\n",
      "MolCLR model:  GINet(\n",
      "  (x_embedding1): Embedding(119, 300)\n",
      "  (x_embedding2): Embedding(3, 300)\n",
      "  (gnns): ModuleList(\n",
      "    (0): GINEConv()\n",
      "    (1): GINEConv()\n",
      "    (2): GINEConv()\n",
      "    (3): GINEConv()\n",
      "    (4): GINEConv()\n",
      "  )\n",
      "  (batch_norms): ModuleList(\n",
      "    (0): BatchNorm1d(300, eps=1e-05, momentum=0.1, affine=True, track_running_stats=True)\n",
      "    (1): BatchNorm1d(300, eps=1e-05, momentum=0.1, affine=True, track_running_stats=True)\n",
      "    (2): BatchNorm1d(300, eps=1e-05, momentum=0.1, affine=True, track_running_stats=True)\n",
      "    (3): BatchNorm1d(300, eps=1e-05, momentum=0.1, affine=True, track_running_stats=True)\n",
      "    (4): BatchNorm1d(300, eps=1e-05, momentum=0.1, affine=True, track_running_stats=True)\n",
      "  )\n",
      "  (feat_lin): Linear(in_features=300, out_features=512, bias=True)\n",
      "  (pred_head): ModuleList(\n",
      "    (0): Linear(in_features=512, out_features=256, bias=True)\n",
      "    (1): Softplus(beta=1, threshold=20)\n",
      "    (2): Linear(in_features=256, out_features=256, bias=True)\n",
      "    (3): Softplus(beta=1, threshold=20)\n",
      "    (4): Linear(in_features=256, out_features=2, bias=True)\n",
      "  )\n",
      ")\n",
      "dict_keys(['c1cc2ccc3cccc4ccc(c1)c2c34', 'OC(=O)[C@@H]1CSC(=N1)C1=NC2=CC=C(O)C=C2S1', '[H][C@@](O)(COCC1=CC=C(OC)C=C1)[C@@]([H])(O)COC1=CC=C(OC)C=C1', 'CC(=O)OC=C'])\n"
     ]
    }
   ],
   "source": [
    "# -*- coding: utf-8 -*-\n",
    "# @Time    : 2023/5/6 14:29\n",
    "# @Author  : TXH\n",
    "# @File    : MolCLRInfer.py\n",
    "# @Software: PyCharm\n",
    "\n",
    "import numpy as np\n",
    "import torch\n",
    "from torch_geometric.data import Data, Dataset\n",
    "from torch_geometric.loader import DataLoader\n",
    "import rdkit\n",
    "from rdkit import Chem\n",
    "from rdkit.Chem.rdchem import BondType as BT\n",
    "from rdkit.Chem.rdchem import HybridizationType\n",
    "from rdkit import RDLogger\n",
    "RDLogger.DisableLog('rdApp.*')\n",
    "\n",
    "ATOM_LIST = list(range(1,119))\n",
    "CHIRALITY_LIST = [\n",
    "    Chem.rdchem.ChiralType.CHI_UNSPECIFIED,\n",
    "    Chem.rdchem.ChiralType.CHI_TETRAHEDRAL_CW,\n",
    "    Chem.rdchem.ChiralType.CHI_TETRAHEDRAL_CCW,\n",
    "    Chem.rdchem.ChiralType.CHI_OTHER\n",
    "]\n",
    "\n",
    "BOND_LIST = [BT.SINGLE, BT.DOUBLE, BT.TRIPLE, BT.AROMATIC]\n",
    "BONDDIR_LIST = [\n",
    "    Chem.rdchem.BondDir.NONE,\n",
    "    Chem.rdchem.BondDir.ENDUPRIGHT,\n",
    "    Chem.rdchem.BondDir.ENDDOWNRIGHT\n",
    "]\n",
    "\n",
    "class InferDataSet(Dataset):\n",
    "    def __init__(self, smiles):\n",
    "        super(InferDataSet, self).__init__()\n",
    "        self.smiles = smiles\n",
    "\n",
    "    def __getitem__(self, index):\n",
    "        mol = Chem.MolFromSmiles(self.smiles[index])\n",
    "        mol = Chem.AddHs(mol)\n",
    "\n",
    "        type_idx = []\n",
    "        chirality_idx = []\n",
    "        for atom in mol.GetAtoms():\n",
    "            type_idx.append(ATOM_LIST.index(atom.GetAtomicNum()))\n",
    "            chirality_idx.append(CHIRALITY_LIST.index(atom.GetChiralTag()))\n",
    "\n",
    "        x1 = torch.tensor(type_idx, dtype=torch.long).view(-1, 1)\n",
    "        x2 = torch.tensor(chirality_idx, dtype=torch.long).view(-1, 1)\n",
    "        x = torch.cat([x1, x2], dim=-1)\n",
    "\n",
    "        row, col, edge_feat = [], [], []\n",
    "        for bond in mol.GetBonds():\n",
    "            start, end = bond.GetBeginAtomIdx(), bond.GetEndAtomIdx()\n",
    "            row += [start, end]\n",
    "            col += [end, start]\n",
    "            edge_feat.append([\n",
    "                BOND_LIST.index(bond.GetBondType()),\n",
    "                BONDDIR_LIST.index(bond.GetBondDir())\n",
    "            ])\n",
    "            edge_feat.append([\n",
    "                BOND_LIST.index(bond.GetBondType()),\n",
    "                BONDDIR_LIST.index(bond.GetBondDir())\n",
    "            ])\n",
    "        edge_index = torch.tensor([row, col], dtype=torch.long)\n",
    "        edge_attr = torch.tensor(np.array(edge_feat), dtype=torch.long)\n",
    "        data = Data(x=x,\n",
    "                    edge_index=edge_index,\n",
    "                    edge_attr=edge_attr,\n",
    "                    smiles=self.smiles[index]\n",
    "                    )\n",
    "        return data\n",
    "\n",
    "    def __len__(self):\n",
    "        return len(self.smiles)\n",
    "\n",
    "\n",
    "class MolCLRInferOne(object):\n",
    "    def __init__(self, dataset, config):\n",
    "        super(MolCLRInferOne, self).__init__()\n",
    "        self.config = config\n",
    "        self.device = self._get_device()\n",
    "        self.dataset = dataset\n",
    "        print('Using GIN model.')\n",
    "        from models.ginet_finetune import GINet\n",
    "        self.model = GINet(**self.config[\"model\"]).to(self.device)\n",
    "        self.model = self._load_pre_trained_weights(self.model)\n",
    "        self.model.eval()\n",
    "        print('MolCLR model: ', self.model)\n",
    "\n",
    "    def _get_device(self):\n",
    "        if torch.cuda.is_available() and self.config['gpu'] != 'cpu':\n",
    "            device = self.config['gpu']\n",
    "            torch.cuda.set_device(device)\n",
    "        else:\n",
    "            device = 'cpu'\n",
    "        print(\"Running on:\", device)\n",
    "        return device\n",
    "\n",
    "    def _load_pre_trained_weights(self, model):\n",
    "        try:\n",
    "            checkpoints_folder = os.path.join('./ckpt', self.config['fine_tune_from'], 'checkpoints')\n",
    "            state_dict = torch.load(os.path.join(checkpoints_folder, 'model.pth'), map_location=self.device)\n",
    "            model.load_my_state_dict(state_dict)\n",
    "            print(\"Loaded pre-trained model with success.\")\n",
    "        except FileNotFoundError:\n",
    "            print(\"Pre-trained weights not found. Training from scratch.\")\n",
    "        return model\n",
    "\n",
    "    def gen_feats(self, batch_size=1):\n",
    "        data_loader = DataLoader(self.dataset, batch_size=batch_size, drop_last=False)\n",
    "        # extract MolCLR feats\n",
    "        all_feats = {}\n",
    "        for data in data_loader:\n",
    "            data = data.to(self.device)\n",
    "            with torch.no_grad():\n",
    "                h, _ = self.model(data)\n",
    "            h = h.to('cpu').numpy()\n",
    "            smiles = data.smiles[0]\n",
    "            all_feats[smiles] = h\n",
    "        return all_feats\n",
    "\n",
    "\n",
    "if __name__ == '__main__':\n",
    "    import yaml\n",
    "    import os\n",
    "    smiles = ['c1cc2ccc3cccc4ccc(c1)c2c34',\n",
    "              'OC(=O)[C@@H]1CSC(=N1)C1=NC2=CC=C(O)C=C2S1',\n",
    "              '[H][C@@](O)(COCC1=CC=C(OC)C=C1)[C@@]([H])(O)COC1=CC=C(OC)C=C1',\n",
    "              'CC(=O)OC=C']\n",
    "\n",
    "    config_file = r'E:\\projects\\photocatalysis_whu\\pred_yield\\config.yaml'\n",
    "    config = yaml.load(open(config_file, \"r\"), Loader=yaml.FullLoader)\n",
    "    dataset = InferDataSet(smiles)\n",
    "    MolCLRInfer = MolCLRInferOne(dataset, config)\n",
    "    feats_dict = MolCLRInfer.gen_feats()\n",
    "    print(feats_dict.keys())\n",
    "    \n"
   ]
  },
  {
   "cell_type": "code",
   "execution_count": 183,
   "id": "3c6f0b42",
   "metadata": {},
   "outputs": [
    {
     "name": "stdout",
     "output_type": "stream",
     "text": [
      "19781\n"
     ]
    },
    {
     "data": {
      "text/plain": [
       "array([[ 1.88115109e-02, -1.10748457e-02, -7.97714666e-03,\n",
       "        -4.08497453e-03,  1.42224906e-02, -4.50661202e-04,\n",
       "         9.72452015e-03,  5.10700941e-01,  6.40516505e-02,\n",
       "        -2.55733151e-02, -5.25850654e-02, -2.21179985e-03,\n",
       "        -2.20980663e-02,  5.32743987e-03,  2.46028062e-02,\n",
       "         1.44269434e-03,  6.77070627e-03, -1.28815146e-02,\n",
       "        -2.11037528e-02, -1.45475324e-02, -1.10726273e-02,\n",
       "         1.09232329e-02, -7.75685022e-03,  2.25176639e-03,\n",
       "         2.42832936e-02,  6.80228649e-03,  3.31416773e-03,\n",
       "         7.17443042e-03, -1.52763277e-02, -1.90011617e-02,\n",
       "        -7.41420034e-03, -1.27844727e-02, -7.96908364e-02,\n",
       "         1.14704389e-02,  8.10491943e+00,  3.64046032e-03,\n",
       "        -4.38886811e-04, -3.24608199e-03,  3.23370448e-03,\n",
       "         1.56557277e-01,  1.41798714e-02,  1.39057906e-02,\n",
       "        -3.93026508e-03, -6.46923706e-02,  8.66149887e-02,\n",
       "         3.35173123e-03, -1.87677871e-02,  3.25447600e-03,\n",
       "        -1.18303252e-03,  5.06221456e-03,  1.66626275e-03,\n",
       "         1.02749430e-02, -1.02100114e-03, -1.37742860e-02,\n",
       "        -9.17616393e-03, -7.25363987e-03, -1.60362162e-02,\n",
       "        -1.69360861e-02,  2.56669432e-01,  6.02033688e-03,\n",
       "        -4.98879608e-03, -3.97910317e-03, -6.71507278e-03,\n",
       "        -7.73329474e-03,  6.70323893e-03, -1.36866001e-02,\n",
       "        -6.33234531e-03,  1.00635961e-02,  9.16197151e-02,\n",
       "        -5.22094499e-03,  2.07422748e-02,  5.79908025e-03,\n",
       "         1.21564344e-02, -1.48546987e-03,  7.05083366e-03,\n",
       "        -5.06766081e-01, -1.91118894e-03, -2.03009266e-02,\n",
       "        -3.68843600e-03, -1.23368595e-02,  1.62665355e+00,\n",
       "        -1.12109661e-01,  4.48125554e-03,  8.86960886e-03,\n",
       "         1.55185396e-02, -1.90815572e-02, -1.71755292e-02,\n",
       "        -9.03315470e-03, -1.22113144e-02, -5.30513143e-03,\n",
       "        -3.77353907e-01,  1.80471484e-02,  1.41909778e-01,\n",
       "        -1.03386659e-02,  1.39236182e-03, -4.15529795e-02,\n",
       "        -1.24885999e-02, -5.37443860e-03, -8.31372011e-03,\n",
       "         2.38436915e-04,  9.60297650e-04,  1.18028186e-03,\n",
       "         8.62141705e+00,  1.51561145e-02, -1.66831836e-02,\n",
       "        -1.16268639e-02,  6.41621929e-03,  1.21862357e-02,\n",
       "        -5.84301446e-03, -5.95587073e-03,  1.27072120e-02,\n",
       "         7.64065888e-03,  5.86239737e-04, -1.08118756e-02,\n",
       "        -1.11986585e-01, -4.09424771e-03,  1.92122981e-02,\n",
       "         5.55349048e-03,  1.91738177e-02,  3.49195860e-02,\n",
       "         8.09322596e-02,  2.16370379e-03,  1.44158257e-03,\n",
       "        -9.47707891e-03,  9.67945457e-02,  2.17905566e-02,\n",
       "        -5.80587715e-04,  1.22054920e-01, -9.86275636e-03,\n",
       "         1.15594566e-02, -3.98574769e-01, -1.03780441e-02,\n",
       "        -4.60907398e-03,  2.28915317e-03,  6.91379840e-03,\n",
       "        -4.29854020e-02,  5.95213380e-03,  1.27752451e-02,\n",
       "         8.21294077e-03,  3.20441951e-03,  1.89465787e-02,\n",
       "         2.16471264e-03,  5.34741208e-03, -9.18455422e-03,\n",
       "        -2.69953534e-02, -7.03609176e-03,  3.37827921e-01,\n",
       "         7.49499910e-03, -3.16886301e-03,  9.68721509e-03,\n",
       "         8.48359708e-03,  4.80395034e-02,  8.08289647e-03,\n",
       "         7.75784487e-03, -9.56840068e-03, -1.38662034e-03,\n",
       "        -1.12547800e-02,  8.48778039e-02, -7.87624565e-04,\n",
       "         7.06553012e-02, -8.10721144e-02,  6.96822256e-03,\n",
       "         7.22849369e-03, -2.00243127e-02,  8.22471455e-04,\n",
       "         7.84253608e-03,  3.17061017e-03,  4.78547020e-03,\n",
       "         2.28240318e-03, -1.64909348e-01,  5.60870916e-02,\n",
       "         1.86221523e-03,  3.07817012e-02,  8.65097996e-03,\n",
       "        -1.67291556e-02, -3.76146543e-03,  8.50596558e-03,\n",
       "        -5.23365801e-03, -8.00699517e-02, -1.27669275e-02,\n",
       "        -7.13501275e-02,  6.32429728e-03,  1.57729052e-02,\n",
       "        -1.24131711e-02, -2.16226988e-02, -1.19776791e-02,\n",
       "        -9.37472880e-02,  2.62505002e-03,  2.06811409e+01,\n",
       "        -9.32279602e-03,  1.17254462e-02, -1.25460858e-02,\n",
       "         5.69052855e-03,  3.79080176e-01, -5.30776219e-04,\n",
       "        -2.55551143e-03,  5.67629468e-06, -1.16959186e-02,\n",
       "        -1.47677222e-02, -1.98004674e-03, -1.38050662e-02,\n",
       "        -8.52159504e-03, -1.06271151e-02,  6.22707279e-03,\n",
       "         1.36823570e-02, -8.52081575e-06, -2.68660136e-03,\n",
       "         8.24590102e-02, -1.28242443e-03, -2.75043361e-02,\n",
       "        -9.64700012e-05,  1.59487352e-02,  4.31892741e-03,\n",
       "        -2.80886944e-02, -1.75323039e-02,  1.03730047e-02,\n",
       "         9.52299759e-02, -8.76466464e-03,  7.87903648e-03,\n",
       "        -9.67004686e-04,  8.07328615e-03,  3.09300260e-03,\n",
       "        -8.69591720e-04, -2.72160326e-03, -1.35496426e-02,\n",
       "         2.13005440e-03, -1.94001552e-02, -9.84861515e-03,\n",
       "         6.77795708e-03,  1.48490533e-01, -2.63015716e-03,\n",
       "         8.01715255e-03, -1.71732157e-02, -2.91520905e+00,\n",
       "         3.24075995e-03, -7.56902201e-03, -1.10010386e-01,\n",
       "        -1.90481171e-01,  1.95658915e-02, -1.42058060e-02,\n",
       "        -1.26439088e-03, -1.59737310e+01,  7.34904269e-03,\n",
       "         2.02005524e-02, -4.63157985e-03,  7.56354630e-03,\n",
       "        -1.72310770e-02, -1.33371493e-02,  9.42591392e-03,\n",
       "         6.05683168e-03, -3.28078568e-02, -5.20025613e-03,\n",
       "         1.88167114e-03, -4.55993116e-02,  6.29352219e-03,\n",
       "         8.51085782e-03, -1.52659975e-03,  1.48912802e+01,\n",
       "        -1.17686121e-02,  6.62052596e-04, -1.59397557e-01,\n",
       "         1.54070603e-03,  1.54983386e-01, -6.64125104e-03,\n",
       "         8.42139684e-03, -1.21703008e-02, -8.31142906e-03,\n",
       "        -7.52684614e-03,  9.41396924e-04,  4.59035765e-03,\n",
       "        -1.00466022e-02, -1.28214085e-03,  3.41200605e-02,\n",
       "        -1.06609077e-03, -2.44765189e-02,  2.21497249e-02,\n",
       "         6.36660680e-03, -4.32345737e-03,  1.43767726e-02,\n",
       "        -6.05945103e-03,  1.24696996e-02,  2.22752001e-02,\n",
       "        -4.82097035e-03,  8.87657609e-03,  1.91213246e-02,\n",
       "        -4.68139231e-01,  1.11621758e-02, -1.87617335e-02,\n",
       "         1.34656709e-02, -5.64224273e-03,  5.66980150e-03,\n",
       "        -4.30028513e-03,  1.43137658e-02,  1.32170096e-02,\n",
       "         1.70242377e-02,  3.21761332e-02, -1.81544032e-02,\n",
       "        -1.36499871e-02,  4.53075022e-03, -1.78245008e-02,\n",
       "        -9.30337310e-02,  1.19731784e-01,  1.72832403e-02,\n",
       "        -6.34519523e-03, -1.31412372e-02,  8.40701908e-03,\n",
       "         9.83322740e-01,  1.50387604e-02,  5.72802164e-02,\n",
       "         5.84579445e-03,  3.61538963e+01, -7.76521582e-03,\n",
       "         1.88306645e-02,  3.09487712e-03, -2.47684103e-02,\n",
       "        -2.27240403e-03, -3.21174879e-03,  4.61711129e-03,\n",
       "        -2.24909261e-02,  8.25891644e-03,  7.94586912e-03,\n",
       "        -1.09633552e-02,  1.67831928e-02, -1.06794059e-01,\n",
       "         5.96330781e-03,  1.24537591e-02, -1.29718212e-02,\n",
       "         1.55413207e-02,  1.46289412e-02, -1.00220228e-02,\n",
       "         7.18849823e-02, -1.18678445e-02, -1.85866263e-02,\n",
       "        -8.66659544e-03,  6.99552475e-03,  7.59985256e+00,\n",
       "        -9.63555351e-02,  2.36380808e-02,  1.30407698e-03,\n",
       "         2.52322014e-02,  8.53786564e+00, -7.67289987e-03,\n",
       "         1.07408920e-02,  2.41977908e-03, -3.61326081e-03,\n",
       "         1.57704242e-02,  6.16055774e-03,  9.32679395e-04,\n",
       "         1.50141325e-02,  5.65455249e-03,  3.46324849e-03,\n",
       "         4.50540800e-03, -4.40555811e-03, -6.65890798e-03,\n",
       "         1.14265857e-02, -8.77575297e-03, -9.51881334e-02,\n",
       "        -1.16055738e-03, -1.71843156e-01,  1.21505326e-02,\n",
       "        -6.85160886e-03,  7.10230023e-02, -7.39840674e-04,\n",
       "         2.01580999e-03,  1.57668553e-02, -3.12146749e-02,\n",
       "         1.88392354e-03, -4.73164463e+00,  2.98081455e-03,\n",
       "         1.27272150e-02,  6.68994710e-03, -1.46251889e-02,\n",
       "         1.11827906e-02,  1.25070801e-03, -1.65320933e-02,\n",
       "        -7.07989000e-03,  1.03185792e-02,  2.95882504e-02,\n",
       "         9.43668280e-03, -5.85971698e-02, -2.24825013e-02,\n",
       "        -1.54796429e-03,  7.42162839e-02, -1.22881211e-01,\n",
       "         1.65640470e-02,  2.92685151e-01,  1.57750957e-02,\n",
       "         9.49736871e-03, -7.24403514e-03, -4.72008064e-03,\n",
       "         2.24669911e-02,  8.88136565e-04, -1.22340284e-02,\n",
       "         5.86153474e-03,  1.58132110e-02, -1.37337651e-02,\n",
       "         2.92527629e-03,  1.48015082e-01, -1.21501293e-02,\n",
       "        -5.15079591e-03, -1.07312547e-02, -2.80945543e-02,\n",
       "        -1.66453626e-02, -1.47304137e-03,  5.70946431e-05,\n",
       "        -4.52849641e-03,  6.82576671e-02, -1.70785678e-03,\n",
       "         7.01648444e-02, -4.66713309e-02,  6.36238307e-02,\n",
       "         1.21201132e-03, -2.63989577e-03,  1.59668159e-02,\n",
       "        -1.94829442e-02, -1.02569023e-02,  2.50301540e-01,\n",
       "         6.98924810e-02,  7.53366852e+00, -1.05961021e-02,\n",
       "         6.69447938e-04,  2.03528511e-03, -1.19532064e-01,\n",
       "        -4.31037601e-03,  3.38942884e-03, -1.69328842e-02,\n",
       "         1.73926707e-02,  1.39458412e-02,  4.04265756e-03,\n",
       "        -8.21536779e-03, -3.79753299e-03,  2.01743245e-01,\n",
       "        -4.13615908e-03,  6.98085576e-02, -3.85868014e-03,\n",
       "        -3.18744369e-02, -9.95233422e-04, -8.17947015e-02,\n",
       "         3.60737857e-03, -3.52235138e-01,  1.00364741e-02,\n",
       "        -1.19048990e-02, -2.79729739e-02, -5.34738787e-03,\n",
       "         9.12568904e-03, -1.21272970e-02, -9.44475923e-03,\n",
       "        -2.31831148e-01,  2.53936592e-02, -1.37745634e-01,\n",
       "         1.72711760e-02,  2.63269106e-03, -5.30092828e-02,\n",
       "         7.68603832e-02, -2.55692713e-02,  8.86669848e-03,\n",
       "         2.30996907e-02,  1.06291857e-03,  1.75368991e-02,\n",
       "        -1.84847564e-02,  1.36853307e-02,  7.56431147e-02,\n",
       "        -1.99777936e-03, -6.85730055e-02, -1.30513404e-02,\n",
       "         1.38190063e-03, -1.40809312e-01,  2.32484620e-02,\n",
       "         5.38366940e-03,  1.79854594e-02,  9.23473760e-03,\n",
       "         1.90371759e-02,  2.26127915e-03,  1.97737366e-02,\n",
       "         3.04619595e-03,  1.79124123e-03, -7.43427454e-03,\n",
       "         4.10312833e-03, -8.66349787e-03,  7.53277540e-02,\n",
       "         2.14311089e-02, -2.81067282e-01, -3.22451303e-03,\n",
       "        -1.55410200e-01, -5.83765022e-02, -3.71736300e-04,\n",
       "        -6.96493909e-02, -1.22710038e-02,  8.75355676e-03,\n",
       "        -4.91539016e-03, -1.11603951e-02, -1.02506354e-02,\n",
       "         2.06532283e-03, -1.12633454e-02,  2.56296657e-02,\n",
       "        -8.91181640e-03, -4.89996386e+00, -6.57983823e-03,\n",
       "        -1.15307858e-02,  6.32763188e-03, -1.09531626e-03,\n",
       "        -1.98153313e-03, -1.93321181e-03, -4.51465882e-03,\n",
       "         1.63852854e-03,  3.11518693e-03,  8.04883719e-04,\n",
       "        -1.37937404e-02,  2.10982794e-03,  1.38376257e-03,\n",
       "         2.98378430e-03,  9.46159661e-03]], dtype=float32)"
      ]
     },
     "execution_count": 183,
     "metadata": {},
     "output_type": "execute_result"
    }
   ],
   "source": [
    "new_feats = r'E:\\projects\\photocatalysis_whu\\pred_yield\\data\\all_mol_molclr_feats_512.npy'\n",
    "news = np.load(new_feats, allow_pickle=True).item()\n",
    "\n",
    "news['CC(=O)c1ccc(Br)cc1']\n",
    "        "
   ]
  },
  {
   "cell_type": "code",
   "execution_count": 154,
   "id": "96fe7e45",
   "metadata": {},
   "outputs": [
    {
     "name": "stdout",
     "output_type": "stream",
     "text": [
      "518\n"
     ]
    },
    {
     "ename": "KeyError",
     "evalue": "'Cc1ccc2c(c1)C(c1ccccc1)C1Cn3c(nc4ccccc4c3=O)C1N2'",
     "output_type": "error",
     "traceback": [
      "\u001b[1;31m---------------------------------------------------------------------------\u001b[0m",
      "\u001b[1;31mKeyError\u001b[0m                                  Traceback (most recent call last)",
      "\u001b[1;32m~\\AppData\\Local\\Temp\\ipykernel_16900\\2254545017.py\u001b[0m in \u001b[0;36m<module>\u001b[1;34m\u001b[0m\n\u001b[0;32m      2\u001b[0m \u001b[0mnews\u001b[0m \u001b[1;33m=\u001b[0m \u001b[0mnp\u001b[0m\u001b[1;33m.\u001b[0m\u001b[0mload\u001b[0m\u001b[1;33m(\u001b[0m\u001b[0mnew_feats\u001b[0m\u001b[1;33m,\u001b[0m \u001b[0mallow_pickle\u001b[0m\u001b[1;33m=\u001b[0m\u001b[1;32mTrue\u001b[0m\u001b[1;33m)\u001b[0m\u001b[1;33m.\u001b[0m\u001b[0mitem\u001b[0m\u001b[1;33m(\u001b[0m\u001b[1;33m)\u001b[0m\u001b[1;33m\u001b[0m\u001b[1;33m\u001b[0m\u001b[0m\n\u001b[0;32m      3\u001b[0m \u001b[0mprint\u001b[0m\u001b[1;33m(\u001b[0m\u001b[0mlen\u001b[0m\u001b[1;33m(\u001b[0m\u001b[0mlist\u001b[0m\u001b[1;33m(\u001b[0m\u001b[0mnews\u001b[0m\u001b[1;33m.\u001b[0m\u001b[0mkeys\u001b[0m\u001b[1;33m(\u001b[0m\u001b[1;33m)\u001b[0m\u001b[1;33m)\u001b[0m\u001b[1;33m)\u001b[0m\u001b[1;33m)\u001b[0m\u001b[1;33m\u001b[0m\u001b[1;33m\u001b[0m\u001b[0m\n\u001b[1;32m----> 4\u001b[1;33m \u001b[0mt2\u001b[0m \u001b[1;33m=\u001b[0m \u001b[0mnews\u001b[0m\u001b[1;33m[\u001b[0m\u001b[1;34m'Cc1ccc2c(c1)C(c1ccccc1)C1Cn3c(nc4ccccc4c3=O)C1N2'\u001b[0m\u001b[1;33m]\u001b[0m\u001b[1;33m\u001b[0m\u001b[1;33m\u001b[0m\u001b[0m\n\u001b[0m",
      "\u001b[1;31mKeyError\u001b[0m: 'Cc1ccc2c(c1)C(c1ccccc1)C1Cn3c(nc4ccccc4c3=O)C1N2'"
     ]
    }
   ],
   "source": [
    "t1 = olds['Cc1ccc2c(c1)C(c1ccccc1)C1Cn3c(nc4ccccc4c3=O)C1N2'].numpy()\n",
    "print(len(list(news.keys())))\n",
    "t2 = news['Cc1ccc2c(c1)C(c1ccccc1)C1Cn3c(nc4ccccc4c3=O)C1N2']"
   ]
  },
  {
   "cell_type": "code",
   "execution_count": 181,
   "id": "4dc9835b",
   "metadata": {},
   "outputs": [
    {
     "name": "stdout",
     "output_type": "stream",
     "text": [
      "18009\n",
      "['Cc1ccc(S(=O)(=O)N2C(=O)CC3=C(c4ccc(Cl)cc4CC3)c3ccccc32)cc1', 'N#CCc1c(C(=O)c2ccccc2)[nH]c2cc(Cl)ccc12', 'Cc1ccc2oc(=O)c3ccccc3c2c1', 'C=CCC(=NO)c1ccc(C(C)(C)C)cc1', 'CCOC(=O)C1(C(=O)OCC)C=C2C3=C(CCc4ccccc43)C(=NN3CCOCC3)CC2C1', 'NCCc1ccccc1Cl', '[Na+].[O-]Cl', 'CCOC(=O)NC(=O)C1CC(C)CCC1C(C)(C)CCC(=O)OCc1ccccc1', 'CCOC(=O)C(F)(F)CCCCCCOC(=O)c1ccccc1', 'CC(C)c1nc2ccccc2s1']\n"
     ]
    }
   ],
   "source": [
    "file = r\"E:\\projects\\photocatalysis_whu\\data\\feats\\all_mol_morgan_feats_96.npy\"\n",
    "morgan_dict = np.load(file, allow_pickle=True).item()\n",
    "print(len(list(morgan_dict.keys())))\n",
    "print(list(morgan_dict.keys())[:10])"
   ]
  },
  {
   "cell_type": "code",
   "execution_count": 184,
   "id": "db99dc8b",
   "metadata": {
    "scrolled": true
   },
   "outputs": [
    {
     "data": {
      "text/plain": [
       "array([[1., 0., 0., 1., 0., 1., 0., 1., 1., 0., 1., 0., 0., 0., 0., 1.,\n",
       "        0., 1., 1., 1., 0., 1., 0., 0., 1., 0., 0., 0., 1., 0., 0., 0.,\n",
       "        1., 1., 1., 0., 1., 0., 0., 0., 0., 0., 0., 1., 0., 0., 0., 0.,\n",
       "        1., 0., 0., 0., 1., 0., 1., 0., 1., 0., 1., 1., 0., 1., 1., 1.,\n",
       "        1., 0., 0., 0., 1., 1., 1., 0., 0., 0., 1., 1., 0., 0., 0., 1.,\n",
       "        0., 1., 0., 1., 0., 0., 1., 0., 0., 1., 1., 0., 1., 0., 1., 0.]],\n",
       "      dtype=float32)"
      ]
     },
     "execution_count": 184,
     "metadata": {},
     "output_type": "execute_result"
    }
   ],
   "source": [
    "morgan_dict['Cc1ccc(S(=O)(=O)N2C(=O)CC3=C(c4ccc(Cl)cc4CC3)c3ccccc32)cc1']"
   ]
  },
  {
   "cell_type": "code",
   "execution_count": 211,
   "id": "90d2610b",
   "metadata": {},
   "outputs": [
    {
     "data": {
      "text/plain": [
       "(1, 512)"
      ]
     },
     "execution_count": 211,
     "metadata": {},
     "output_type": "execute_result"
    }
   ],
   "source": [
    "import os\n",
    "from torch.utils.data import Dataset, DataLoader\n",
    "\n",
    "root_dir = r'E:\\projects\\photocatalysis_whu\\data\\feats'\n",
    "molclr_file = os.path.join(root_dir, 'all_mol_molclr_feats_512.npy')\n",
    "morgan_file = os.path.join(root_dir, 'all_mol_morgan_feats_96.npy')\n",
    "molclr_feats = np.load(molclr_file, allow_pickle=True).item()\n",
    "morgan_dict = np.load(morgan_file, allow_pickle=True).item()\n",
    "\n",
    "smiles = ['BrC(Br)(Br)Br', \n",
    "          'C(=NC1CCCCC1)=NC1CCCCC1',\n",
    "          'Cc1ccc(S(=O)(=O)N2C(=O)CC3=C(c4ccc(Cl)cc4CC3)c3ccccc32)cc1']\n",
    "# smiles = []\n",
    "np.concatenate([molclr_feats[s] for s in smiles]).mean(axis=0, keepdims=True).shape"
   ]
  },
  {
   "cell_type": "code",
   "execution_count": 238,
   "id": "75bb9dc8",
   "metadata": {},
   "outputs": [
    {
     "data": {
      "text/plain": [
       "(16, 2)"
      ]
     },
     "execution_count": 238,
     "metadata": {},
     "output_type": "execute_result"
    }
   ],
   "source": []
  },
  {
   "cell_type": "code",
   "execution_count": 252,
   "id": "a871de18",
   "metadata": {},
   "outputs": [],
   "source": [
    "feats = r'E:\\projects\\photocatalysis_whu\\pred_yield\\data\\all_mol_molclr_feats_512.npy'\n",
    "feats_dict = np.load(feats, allow_pickle=True).item()"
   ]
  },
  {
   "cell_type": "code",
   "execution_count": 255,
   "id": "4fe2ffa4",
   "metadata": {
    "scrolled": true
   },
   "outputs": [
    {
     "name": "stdout",
     "output_type": "stream",
     "text": [
      "dict_keys(['c1cc2ccc3cccc4ccc(c1)c2c34', 'F[B-](F)(F)F.N#[N+]c1ccc([N+](=O)[O-])cc1', 'C=C(CCC(=O)O)c1ccccc1', '[O]', 'Cc1cc(C)c([S-])c(C)c1', 'CCCO', 'CC(=O)NCC(=O)O', 'OB(c1ccccc1)c1ccccc1', 'CCNc1cc2[o+]c3cc(NCC)c(C)cc3c(-c3ccccc3C(=O)OCC)c2cc1C.[Cl-]', 'CCCC[N+](CCCC)(CCCC)CCCC.[OH-]', 'CC(C)(C)c1ccnc(-c2cc(C(C)(C)C)ccn2)c1.Fc1c[c-]c(-c2ccc(C(F)(F)F)cn2)c(F)c1.Fc1c[c-]c(-c2ccc(C(F)(F)F)cn2)c(F)c1.[Cl-].[Ir+3]', 'CCCCC', 'CC(=O)[O-].CC(=O)[O-].CO/N=C(\\\\C)c1[c-]cccc1.CO/N=C(\\\\C)c1[c-]cccc1.[Pd+2].[Pd+2]', 'CC(=O)ON1C(=O)c2ccccc2C1=O', 'O=C1OC2(c3ccccc31)c1cc(Br)c(O)c(Br)c1Oc1c2cc(Br)c(O)c1Br', 'O=C(O)O.[Na]', 'C1=CCC=CC1', 'CC(C)(C)N=P(N1CCCC1)(N1CCCC1)N1CCCC1', 'O=C(O)O.[K]', 'Cc1cc(C)c(-c2c3ccccc3[n+](-c3ccccc3)c3ccccc23)c(C)c1.F[B-](F)(F)F', 'C(=Cc1ccccc1)c1ccccc1', 'Fc1c(F)c(F)c(B(c2c(F)c(F)c(F)c(F)c2F)c2c(F)c(F)c(F)c(F)c2F)c(F)c1F', '[Na+].[O-][I+3]([O-])([O-])[O-]', 'Brc1cccc(Br)c1-[n+]1cn2c(n1)COC1Cc3ccccc3C12.F[B-](F)(F)F', 'F[Sb-](F)(F)(F)(F)F.[K+]', '[O-][n+]1ccccc1', 'CC1(C)[C@H]2CC[C@]1(CS(=O)(=O)[O-])C(=O)C2', 'CCCC[N+](CCCC)(CCCC)CCCC.O=P([O-])([O-])Oc1ccccc1', 'N#CC1=C(C#N)C(=O)C(Cl)=C(Cl)C1=O', 'CC(C)(C)c1ccnc(-c2cc(C(C)(C)C)ccn2)c1', 'N#Cc1c(-n2c3ccccc3c3ccccc32)c(C#N)c(-n2c3ccccc3c3ccccc32)c(-n2c3ccccc3c3ccccc32)c1-n1c2ccccc2c2ccccc21', 'O=C1c2ccccc2C(=O)N1O', 'C1CCC2=NCCCN2CC1', 'CCCC[N+](CCCC)(CCCC)CCCC.F[P-](F)(F)(F)(F)F', 'CC(C)(C)C1COC(c2nccc3ccccc23)=N1', 'ClC(Cl)(Cl)Br', 'FC(F)(F)c1ccccc1', 'O[Si](c1ccccc1)(c1ccccc1)c1ccccc1', 'CC1C=Cc2ccccc2N1', 'c1cnc2c(c1)ccc1cccnc12', '[Pt]', 'CC#N.CC#N.O=C([O-])C(F)(F)F.O=C([O-])C(F)(F)F.O=C([O-])C(F)(F)F.O=C([O-])C(F)(F)F.[Cu+2][Cu+2]', '[Cl-].[Cl-].[Ru+2].c1ccc(-c2ccccn2)nc1.c1ccc(-c2ccccn2)nc1.c1ccc(-c2ccccn2)nc1', 'C=C(C)C(=O)N(C)c1cccc(-c2ccccc2)c1C#N', 'CC(=O)O.[Cu]', '[Br-].[K+]', 'CC#N', 'O=C=O', 'Cl[Pd]Cl', 'CC(=O)c1ccc(Br)cc1', 'N#Cc1c(-n2c3ccc(Br)cc3c3cc(Br)ccc32)c(C#N)c(-n2c3ccc(Br)cc3c3cc(Br)ccc32)c(-n2c3ccc(Br)cc3c3cc(Br)ccc32)c1-n1c2ccc(Br)cc2c2cc(Br)ccc21', 'F[P-](F)(F)(F)(F)F.[Ru+2].c1cnc(-c2cnccn2)cn1.c1cnc(-c2cnccn2)cn1.c1cnc(-c2cnccn2)cn1', 'C[N+](=O)[O-]', 'O=C1c2cccnc2-c2ncccc21.O=C1c2cccnc2-c2ncccc21.O=C1c2cccnc2-c2ncccc21.[Ru+2]', 'COc1ccc([N+]#N)cc1.F[B-](F)(F)F', 'O=S(=O)(O)C(F)(F)F.[K]', 'O=S(=O)(O)C(F)(F)F.[Bi]', 'CSC', 'C1=C\\\\CC/C=C\\\\CC/1.C1=C\\\\CC/C=C\\\\CC/1.[Ni]', 'CC(=N\\\\[O-])/C(C)=N/O.CC(=N\\\\[O-])/C(C)=N/O.[Cl-].[Co+3].c1ccncc1', 'O=S(=O)(NP1(=S)Oc2ccc3ccccc3c2-c2c(ccc3ccccc23)O1)C(F)(F)F', 'CC(C)(C)ON=O', 'CN(C)Cc1ccccc1', '[Pd]', 'CC(C)c1cc(C(C)C)c(S(=O)(=O)N=[N+]=[N-])c(C(C)C)c1', 'CCCCOP(=O)(O)OCCCC.[Mg]', 'O=C([O-])C(F)(F)F.[Na+]', 'CC1(C)c2cccc3c2Oc2c1cccc2[P](c1ccccc1)(c1ccccc1)[Cu+][P]3(c1ccccc1)c1ccccc1.Cc1ccc2ccc3ccc(C)nc3c2n1.F[P-](F)(F)(F)(F)F', 'CC1=CCC(C(C)C)=CC1', 'ClCCl', 'CC#N.CC#N.CC#N.CC#N.F[P-](F)(F)(F)(F)F.[Cu+]', 'F[P-](F)(F)(F)(F)F.Fc1c[c-]c(-c2ccc(C(F)(F)F)cn2)c(F)c1.Fc1c[c-]c(-c2ccc(C(F)(F)F)cn2)c(F)c1.[Ir+3].c1ccc(-c2ccccn2)nc1', 'O=[N+]([O-])c1ccc(S)cc1', 'CC(=N\\\\O)/C(C)=N/O.CC(=N\\\\[O-])/C(C)=N/O.Cl[Co+3]Cl', 'Fc1c[c-]c(-c2ccccn2)c(F)c1.Fc1c[c-]c(-c2ccccn2)c(F)c1.O=C([O-])c1ccccn1.[Ir+3]', 'O=C([O-])O.[Na+]', 'CCCCCCCC[N+](C)(C)C.[Cl-]', 'CCN(CC)CC', 'F[P-](F)(F)(F)(F)F.Fc1c[c-]c(-c2ccc(C(F)(F)F)cn2)c(F)c1.Fc1c[c-]c(-c2ccc(C(F)(F)F)cn2)c(F)c1.Fc1ccc(-c2ccc(F)cn2)nc1.[Ir+3]', '[Cl-].[Cl-].[Ru+2].c1cnc2c(c1)ccc1cccnc12.c1cnc2c(c1)ccc1cccnc12.c1cnc2c(c1)ccc1cccnc12', 'Cc1cccnc1C1=NC(C(C)(C)C)CO1', 'O=C([O-])C(F)(F)F.[Ag+]', 'O=NO.[Na]', 'CC[BH-](CC)CC.[Li+]', 'O=C(c1ccccc1)N(C(=O)c1c2ccccc2[n+](-c2ccccc2)c2ccccc12)C1CCCCC1.[O-][Cl+3]([O-])([O-])[O-]', 'N', 'Cc1cc(C)c(-c2c3cc(C)ccc3[n+](-c3ccccc3)c3ccc(C)cc23)c(C)c1', 'CC(C)(C)c1ccnc(-c2cc(C(C)(C)C)ccn2)c1.Cc1ccc(-c2[c-]cc(F)cc2)nc1.Cc1ccc(-c2[c-]cc(F)cc2)nc1.F[P-](F)(F)(F)(F)F.[Ir+3]', 'Cc1c(C)c(C)[c-](C)c1C.Cc1c(C)c(C)[c-](C)c1C.[Cl-].[Cl-].[Rh+2].[Rh+2]', '[Ru+2].c1ccc(-c2ccccn2)nc1.c1ccc(-c2ccccn2)nc1.c1ccc(-c2ccccn2)nc1', 'Cc1cc(C)nc(C)c1', 'CC(C)(C)C1COC(c2ncccn2)=N1', 'Cc1ccc(S(=O)[O-])cc1.[Na+]', 'CON1C(=O)c2ccccc2C1=O', 'CCCC[N+](CCCC)(CCCC)CCCC.O=P([O-])(O)O', 'c1ccccc1', 'C[n+]1c2ccccc2c(-c2ccccc2)c2ccccc21.[O-][Cl+3]([O-])([O-])[O-]', 'CCCCOC(C)=O', 'CC(C)(C)C1COC(c2ccc(C(F)(F)F)cn2)=N1', 'CCC[N+](CCC)(CCC)CCC.[Br-]', 'CC1(C)C2CCC1(CS(=O)(=O)O)C(=O)C2', 'Cl[Ru](Cl)Cl', 'O.[Cl-].[Ru+2].c1ccc(-c2ccccn2)nc1.c1ccc(-c2ccccn2)nc1.c1ccc(-c2ccccn2)nc1', 'CCN(CC)CC.F', '[Li+].[c-]1ccccc1', 'Cc1cc(C)c(-c2c3ccccc3[n+](C)c3ccccc23)c(C)c1.[O-][Cl+3]([O-])([O-])[O-]', 'Cl[Ru](Cl)([P](c1ccccc1)(c1ccccc1)c1ccccc1)([P](c1ccccc1)(c1ccccc1)c1ccccc1)[P](c1ccccc1)(c1ccccc1)c1ccccc1', 'CCCCCO', 'O', 'O=P1(O)Oc2c([Si](c3ccccc3)(c3ccccc3)c3ccccc3)cc3ccccc3c2-c2c(c([Si](c3ccccc3)(c3ccccc3)c3ccccc3)cc3ccccc23)O1', 'O=P(Cl)(Cl)Cl', 'C(=NC1CCCCC1)=NC1CCCCC1', 'Oc1ccc(/N=N/c2ccccn2)c(O)c1.[Na+]', 'CC(C)(C)c1cc(/C=N/C(C)(C)C(C)(C)/N=C/c2cc(C(C)(C)C)cc(C(C)(C)C)c2[O-])c([O-])c(C(C)(C)C)c1.[Co+2]', 'COc1ccc(C=Cc2ccccc2)cc1', '[Cl-].[NH4+]', 'O=C(O)C1CCCN1', 'CC(C)c1cc(C(C)C)c(SSc2c(C(C)C)cc(C(C)C)cc2C(C)C)c(C(C)C)c1', 'F[As-](F)(F)(F)(F)F.[Li+]', 'BrC(Br)(Br)Br', 'COC(=O)CS', 'Cc1cccc(C2=N[C@@H](C(C)(C)C)CO2)n1', 'CC(=O)OC1CN2CCC1CC2', 'Fc1ccccc1', 'Cc1cccc(C)c1S', 'CCOCC.Cl', 'C[C]1[C](C)[C](C)[C](C)[C]1C.C[C]1[C](C)[C](C)[C](C)[C]1C.Cl[Ir]Cl.Cl[Ir]Cl', '[Cl-].[Na+]', 'CC(C)(C)c1ccnc(-c2cc(C(C)(C)C)ccn2)c1.F[B-](F)(F)F.[Ir+3].[c-]1ccccc1-c1ccccn1.[c-]1ccccc1-c1ccccn1', 'N#C[S-].[Cu+]', 'CC1(C)CCCC(C)(C)N1', 'c1ccc(P(c2ccccc2)c2ccccc2)cc1', 'CCCCCCCCCCCCCCCC[N+](C)(C)C.[Br-]', 'CCCCOP(=O)([O-])OCCCC.CCCC[N+](CCCC)(CCCC)CCCC', 'O=S(O)O.[Na]', 'COC(C)=O', 'CC1=NO[B-](F)(F)ON=C(C)C(C)=NO[B-](F)(F)ON=C1C.[Co+2]', 'CC(=O)OI1c2ccccc2C(=O)N1S(=O)(=O)c1ccc(C)cc1', 'Cc1ccc(S)cc1', 'CC(C)N=C=NC(C)C', 'O=[N+]([O-])O.[Li]', 'c1ccc(-c2ccccn2)nc1', 'ClCCCl', '[Ir].c1ccc(-c2ccccn2)nc1.c1ccc(-c2ccccn2)nc1.c1ccc(-c2ccccn2)nc1', 'Cc1cc(C)cc(C)c1', 'O=C(O)C(Br)c1ccccc1[N+](=O)[O-]', 'Cc1ccc(S(=O)(=O)O)cc1', 'O=C(O)O.[Li]', 'c1ccc(-c2ccccn2)cc1', 'C1CCCNCC1', 'COc1ccc(-c2ccc3ccc4ccc(-c5ccc(OC)cc5)nc4c3n2)cc1.COc1ccc(-c2ccc3ccc4ccc(-c5ccc(OC)cc5)nc4c3n2)cc1.[Cl-].[Cu+]', 'CC(C)(C)C(=O)O', 'CC#N.FB(F)F', 'O=C(OI(OC(=O)C(F)(F)F)c1ccccc1)C(F)(F)F', 'CC(=O)[O-].[K+]', '[Na].[O].[W]', 'O.O.O.O.O.[Na+].[O-]Cl', 'C=CC1CN2CCC1CC2C(N)c1ccnc2ccccc12.Cl', 'O=C1OC2(c3ccccc31)c1cc([N+](=O)[O-])c(O)c(Br)c1Oc1c2cc([N+](=O)[O-])c(O)c1Br.[Na]', 'O=S(=O)(O)C(F)(F)F.[Cu]', 'Cc1ccc(S(=O)(=O)NC(C)(C)C)cc1', 'C(#Cc1ccccc1)CNc1ccccc1', 'C1COCCO1', '[C-]#[N+]c1ccccc1-c1ccccc1', 'Cc1cc(C)c(-[n+]2cn3c(n2)COC2Cc4ccccc4C23)c(C)c1.F[B-](F)(F)F', 'CC(C)(C)c1ccnc(-c2cc(C(C)(C)C)ccn2)c1.F[P-](F)(F)(F)(F)F.Fc1c[c-]c(-c2ccccn2)c(F)c1.Fc1c[c-]c(-c2ccccn2)c(F)c1.[Ir+3]', 'Cc1cccc(C)n1', 'O=C(n1ccnc1)n1ccnc1', 'CCCCCCCCCCCCOCCOCCOCCOS(=O)(=O)O.[Na]', '[Br-].[Na+]', 'FC(F)(F)c1c[c-]cc(C(F)(F)F)c1.FC(F)(F)c1c[c-]cc(C(F)(F)F)c1.FC(F)(F)c1c[c-]cc(C(F)(F)F)c1.FC(F)(F)c1c[c-]cc(C(F)(F)F)c1.[B+3].[Ru+2].c1cnc(-c2cnccn2)cn1.c1cnc(-c2cnccn2)cn1.c1cnc(-c2cnccn2)cn1', 'COc1c[c-]c(-c2ccccn2)cc1.COc1c[c-]c(-c2ccccn2)cc1.COc1c[c-]c(-c2ccccn2)cc1.[Ir+3]', 'II', 'Cc1ccccc1C', 'F[B-](F)(F)F.[Li+]', 'c1ccc(C2COC(c3ccccn3)=N2)cc1', 'CC(C)(C)C#N', 'CCCCOP(=O)(O)OCCCC', 'O=C([O-])O.[K+]', 'CCCCOP(=O)(O)OCCCC.[Li]', 'Cc1ccc(C(C)C)cc1.Cc1ccc(C(C)C)cc1.Cl[Ru]Cl.Cl[Ru]Cl', 'F[K]', 'CC(C)C1CN(c2cccc(C(C)(C)C)c2)C(C2=NC(C(C)C)CN2c2cccc(C(C)(C)C)c2)=N1', 'O[K]', '[Ir].c1ccc(-c2ccccn2)cc1.c1ccc(-c2ccccn2)cc1.c1ccc(-c2ccccn2)cc1', 'Cc1ccc(S(=O)(=O)N([Au][P](c2ccccc2)(c2ccccc2)c2ccccc2)S(=O)(=O)c2ccc(C)cc2)cc1', 'CC1(C)C2CC[C@]1(CS(=O)(=O)O)C(=O)C2', 'CCOC(C)=O', 'O=C1CCC(=O)N1Cl', 'COc1ccc(N(c2ccccc2)c2ccccc2)cc1', 'CC1(C)CCCC(C)(C)N1[O]', 'c1ccc([C@@H]2N=C(c3ccccn3)O[C@@H]2c2ccccc2)cc1', 'NC(=O)c1ccc[n+](C2OC(COP(=O)(O)OP(=O)(O)OCC3OC(n4cnc5c(N)ncnc54)C(OP(=O)(O)O)C3O)C(O)C2O)c1', 'Fc1cc2c(cc1F)Sc1cc(F)c(F)cc1S2', 'CN(C)CCN.O=S(=O)(O)C(F)(F)F', 'CC(=O)OI(OC(C)=O)c1c(C)cc(C)cc1C', 'CC(C)(OOC(C)(C)c1ccccc1)c1ccccc1', 'CCOC(=O)C1=C(C)NC(C)=C(C(=O)OCC)C1', '[Pd].c1ccc(P(c2ccccc2)c2ccccc2)cc1.c1ccc(P(c2ccccc2)c2ccccc2)cc1.c1ccc(P(c2ccccc2)c2ccccc2)cc1.c1ccc(P(c2ccccc2)c2ccccc2)cc1', 'NCCCN', 'CCC(C)N(C1CCCCC1)C1CCCCC1', 'O=C1OI(O)c2ccccc21', 'Cc1ccc2ccc3ccc(C)nc3c2n1', 'COC(=O)c1ccc(I)cc1', 'CCCCC(CC)C(=O)O.[Cu]', 'CCCCOP(=O)(O)OCCCC.[Ca]', 'COC(=O)c1cc2ccccc2cn1', 'CCCC[N+](CCCC)(CCCC)CCCC.[Br-]', 'Cc1cc(C(C)(C)C)nc(C(C)(C)C)c1', 'CCOP(OCC)OCC', 'O=S(Cl)Cl', 'CC(C)c1cc(C(C)C)c(-c2cc3ccccc3c3c2OP(=O)(O)Oc2c(-c4c(C(C)C)cc(C(C)C)cc4C(C)C)cc4ccccc4c2-3)c(C(C)C)c1', 'N#Cc1c(C#N)c(-n2c3ccccc3c3ccccc32)c(-n2c3ccccc3c3ccccc32)c(-n2c3ccccc3c3ccccc32)c1-n1c2ccccc2c2ccccc21', 'Cc1cc(C)c(-c2c3cc(C)ccc3[n+](-c3ccccc3)c3ccc(C)cc23)c(C)c1.F[B-](F)(F)F', 'Cc1ccccc1', 'CC(=O)O', 'CC(C)(C)c1ccnc(-c2cc(C(C)(C)C)ccn2)c1.F[P-](F)(F)(F)(F)F.[Ru+2].c1ccc(-c2ccccn2)nc1.c1ccc(-c2ccccn2)nc1', '[Al+3].[Al+3].[O-2].[O-2].[O-2]', 'C=CC1CN2CCC1CC2C(N)c1ccnc2ccccc12', 'Cl[Mg]Cl', 'CC(C)O', 'O=C([O-])c1ccccc1.[Na+]', 'CC(C)(C)c1ccnc(-c2cc(C(C)(C)C)ccn2)c1.Fc1c[c-]c(-c2ccc(C(F)(F)F)cn2)c(F)c1.Fc1c[c-]c(-c2ccc(C(F)(F)F)cn2)c(F)c1.[Ir+3]', 'ClC(Cl)Cl', '[Na+]', 'CO', 'Cc1ccc[c-]c1C(=O)[N-]c1cccc2cccnc12.Cc1ccccc1C(=O)[N-]c1cccc2cccnc12.[Co+3]', '[2H]OC', 'C#Cc1ccccc1', 'c1ccc(SSc2ccccc2)cc1', 'O=O', 'O=P(O)(O)O.[Na]', 'Fc1c[c-]c(-c2ccccn2)c(F)c1.Fc1c[c-]c(-c2ccccn2)c(F)c1.Fc1c[c-]c(-c2ccccn2)c(F)c1.[Ir+3]', 'Cc1cc(-c2ccccc2)c2ccc3c(-c4ccccc4)cc(C)nc3c2n1.F[P-](F)(F)(F)(F)F.c1ccc([P]2(c3ccccc3)[Cu+][P](c3ccccc3)(c3ccccc3)c3ccccc3Oc3ccccc32)cc1', 'CC1(C)OB(B2OC(C)(C)C(C)(C)O2)OC1(C)C', 'Br[Ni]Br.COCCOC', 'c1ccc2[nH]ccc2c1', 'NCC(=O)[O-].[Na+]', 'CC1(C)OC(c2ccccn2)=NC1c1ccccc1', 'C=C(CNCc1ccccc1)c1ccccc1', '[Cl-].[H+]', 'Cl[Cu]Cl', 'CCCCOP(=O)([O-])OCCCC.CCCC[N+](C)(CCCC)CCCC', 'CC(=O)[CH-]C(C)=O.CC(=O)[CH-]C(C)=O.[Cu+2]', 'CCCC[N+](CCCC)(CCCC)CCCC.O=P([O-])(Oc1ccccc1)Oc1ccccc1', 'CCO', 'F[P-](F)(F)(F)(F)F.F[P-](F)(F)(F)(F)F.[Ru+2].c1ccc(-c2ccccn2)nc1.c1ccc(-c2ccccn2)nc1.c1ccc(-c2ccccn2)nc1', 'C=C(c1cccc(C(C)=O)c1)C(F)(F)F', '[Cl-].[Li+]', 'N.On1nnc2ccccc21', 'CC(=O)[O-].[Cs+]', 'C[Si](C)(C)[Si](O)([Si](C)(C)C)[Si](C)(C)C', 'c1ccc2ccccc2c1', 'O=S(c1ccc(Cl)cc1)c1ccc(Cl)cc1', '[Bi].[O].[V]', 'CC(C)OS(=O)(=O)NC(C)(C)C', 'CN(C)C=O', 'C[Si](C)(C)[SiH]([Si](C)(C)C)[Si](C)(C)C', 'S=c1cccc[nH]1', 'CCOCC', 'Clc1cccc(Cl)c1-[n+]1cn2c(n1)COC1Cc3ccccc3C12.F[B-](F)(F)F', 'N#Cc1c(N(c2ccccc2)c2ccccc2)c(F)c(N(c2ccccc2)c2ccccc2)c(C#N)c1N(c1ccccc1)c1ccccc1', 'O=Cc1ccccc1', 'CC(C)(C)c1ccnc(-c2cc(C(C)(C)C)ccn2)c1.CC(C)(C)c1ccnc(-c2cc(C(C)(C)C)ccn2)c1.CC(C)(C)c1ccnc(-c2cc(C(C)(C)C)ccn2)c1.F[P-](F)(F)(F)(F)F.F[P-](F)(F)(F)(F)F.[Ru+2]', 'Br[Ni]Br.COc1ccnc(-c2cc(OC)ccn2)c1.O.O', '[NH4+].[OH-]', '[BH4-].[Na+]', 'COC(F)(F)C(F)(F)C(F)(F)F', 'c1ccc(-c2ccnc3c2ccc2c(-c4ccccc4)ccnc23)cc1', '[F-].[K+]', 'c1ccc(OB(Oc2ccccc2)Oc2ccccc2)cc1', 'CC(=O)N(C)C', 'Cc1ccnc(-c2cc(CCCC(=O)[O-])ccn2)c1.F[P-](F)(F)(F)(F)F.[H+].[Ru+2].c1ccc(-c2ccccn2)nc1.c1ccc(-c2ccccn2)nc1', '[Cl-].[Cl-].[Ru+2].c1cnc(-c2ncccn2)nc1.c1cnc(-c2ncccn2)nc1.c1cnc(-c2ncccn2)nc1', 'O=P([O-])(O)O.[K+]', 'CC1(C)c2cccc3c2Oc2c1cccc2[P](c1ccccc1)(c1ccccc1)[Cu+][P]3(c1ccccc1)c1ccccc1.Cc1cc(-c2ccccc2)c2ccc3c(-c4ccccc4)cc(C)nc3c2n1.F[P-](F)(F)(F)(F)F', 'COC(C)(C)C', 'O=C1c2ccccc2C(=O)N1SC(F)(F)F', 'O.O.O.[Li+].[O-][Cl+3]([O-])([O-])[O-]', 'O=C(O)O.[Ag]', 'c1ccc2c(c1)C[C@@H]1OC(C3(C4=N[C@@H]5c6ccccc6C[C@@H]5O4)CC3)=N[C@H]21', 'CCOC(=O)C(Br)C(=O)OCC', '[H]', 'Brc1ccccc1', 'c1ccncc1', 'Oc1ccccc1', 'CC(C)(C)[C@H]1COC(c2ccccn2)=N1', 'CC(C)(C)c1ccnc(-c2cc(C(C)(C)C)ccn2)c1.F[P-](F)(F)(F)(F)F.Fc1c[c-]c(-c2ccc(C(F)(F)F)cn2)c(F)c1.Fc1c[c-]c(-c2ccc(C(F)(F)F)cn2)c(F)c1.[Ir+3]', 'O=CO', 'CC(=O)/C=C(/C)O.CC(=O)/C=C(/C)O.[Ni]', 'COC(=O)OC(=O)OC', '[Au+].[Cl-].c1ccc(P(c2ccccc2)c2ccccc2)cc1', 'Clc1ccccc1', 'O=[Si]=O', 'CCN(CC)C(C)C', 'O=S(=O)([O-])C(F)(F)F.[Ag+]', 'CC(C)(C)c1c[c-]c(-c2ccccn2)cc1.CC(C)(C)c1c[c-]c(-c2ccccn2)cc1.CC(C)(C)c1ccnc(-c2cc(C(C)(C)C)ccn2)c1.F[P-](F)(F)(F)(F)F.[Ir+3]', '[Ir+3].c1ccc(-c2ccccn2)nc1.c1ccc(-c2ccccn2)nc1.c1ccc(-c2ccccn2)nc1', 'CC(C)=O', 'CCCCCCCCCCCCOS(=O)(=O)[O-].[Na+]', 'O=S1c2ccccc2Sc2ccccc21', 'COCCOC.Cl[Ni]Cl', 'ClC(Cl)C(Cl)Cl', 'Cc1c(C)c(C)[c-](C)c1C.Cc1c(C)c(C)[c-](C)c1C.O=C1C=C(O)N=C(C2=NC(O)=CC(=O)[N]2)[N]1.[Cl-].[Cl-].[Cl-].[Ir+3].[Ir+3]', 'CC(C)c1cc(C(C)C)c(S)c(C(C)C)c1', 'Cc1cc(C)[n+](F)c(C)c1', 'CCOCC.F[B-](F)(F)F.[H+]', 'O=S(=O)(O)OOS(=O)(=O)O.[Na]', 'Cc1c(C)c(C)[c-](C)c1C.F[P-](F)(F)(F)(F)F.[Ru+2].c1ccc2cc3ccccc3cc2c1', 'O=S(=O)(O)C(F)(F)F.[Sc]', 'O=C(O)CNC(=O)OCc1ccccc1', 'COc1ccc([P]([Au]Cl)(c2ccc(OC)cc2)c2ccc(OC)cc2)cc1', 'CC(=O)N[C@@H](Cc1ccccc1)C(=O)O', 'O=S(=O)([O-])O.[Na+]', 'CNC', 'CC(=O)[CH-]C(C)=O.CC(=O)[CH-]C(C)=O.[Co+2]', 'O=C1c2ccccc2C(=O)N1Br', 'Cl[Ni]Cl', 'O=C(O)C(Cl)Cl', 'CC(C)(C)OO', 'C1COCCN1', '[18O]=[18O]', '[Na+].[O-]Cl', 'F[P-](F)(F)(F)(F)F.[Ru+2].c1cnc2c(c1)ccc1cccnc12.c1cnc2c(c1)ccc1cccnc12.c1cnc2c(c1)ccc1cccnc12', 'O.O.O.O.O.O=S(=O)([O-])[S-].[Na+].[Na+]', 'Br[Cu]Br', 'C1COCCN2CCOCCOCCN(CCO1)CCOCCOCC2', 'CCCCOCCCC', 'CCCCCCCCCC', 'CCCCOP(=O)([O-])OCCCC.CCCC[P+](CCCC)(CCCC)CCCC', 'Oc1cc(Cl)ccc1Br', 'F[P-](F)(F)(F)(F)F.Fc1c[c-]c(-c2ccccn2)c(F)c1.Fc1c[c-]c(-c2ccccn2)c(F)c1.[Ir+3].c1cnc2c(c1)ccc1cccnc12', 'C1CCOC1', 'O=C([O-])c1c(Cl)c(Cl)c(Cl)c(Cl)c1-c1c2cc(I)c(=O)c(I)c-2oc2c(I)c([O-])c(I)cc12.[Na+].[Na+]', 'CC(C)(C)c1ccnc(-c2cc(C(C)(C)C)ccn2)c1.F[P-](F)(F)(F)(F)F.[Ir+3].[c-]1ccccc1-c1ccccn1.[c-]1ccccc1-c1ccccn1', 'CC(C)c1cccc(C(C)C)c1-[n+]1csc2c1CCCCC2.[O-][Cl+3]([O-])([O-])[O-]', 'Cn1ccnc1', 'COC(=O)C=CNc1ccccc1', 'CC(C)(C)OC(=O)OC(=O)OC(C)(C)C', 'COc1ccc(N)c(C#CC(C)C)c1', 'CC(C)(C1=N[C@H](Cc2ccccc2)CO1)C1=N[C@H](Cc2ccccc2)CO1', 'O=S([O-])[N+]12CC[N+](S(=O)[O-])(CC1)CC2', 'CC(=N\\\\[O-])/C(C)=N/O.CC(=N\\\\[O-])/C(C)=N/O.CN(C)c1ccncc1.[Cl-].[Co+3]', 'CCOC(=O)CC', 'F[B-](F)(F)F.N#[N+]c1ccccc1', 'CC(C)(C)[O-].[K+]', 'CC(=O)OI(OC(C)=O)c1ccccc1', 'CCN(C(C)C)C(C)C', 'O=C(OC(=O)C(F)(F)F)C(F)(F)F', 'CCC(C)(C)O', 'FC(F)(F)C1(C(F)(F)F)O[Si]2(OC(C(F)(F)F)(C(F)(F)F)c3ccccc32)c2ccccc21', 'CC(C)(C)c1ccnc(-c2cc(C(C)(C)C)ccn2)c1.Cc1c[c-]c(-c2cc(C)ccn2)cc1.Cc1c[c-]c(-c2cc(C)ccn2)cc1.F[P-](F)(F)(F)(F)F.[Ir+3]', 'CC(C)(C)c1ccnc(-c2cc(C(C)(C)C)ccn2)c1.Cc1ccc(-c2[c-]cc(F)cc2F)nc1.Cc1ccc(-c2[c-]cc(F)cc2F)nc1.F[P-](F)(F)(F)(F)F.[Ir+3]', 'OC(C(F)(F)F)C(F)(F)F', 'Cc1cc(C)c(-n2c[n+]3c(n2)CCC3)c(C)c1.F[B-](F)(F)F', 'CCCC[N+](CCCC)(CCCC)CCCC.COP(=O)([O-])OC', 'Cl[Ru]Cl.c1ccc(-c2ccnc3c2ccc2c(-c4ccccc4)ccnc23)cc1.c1ccc(-c2ccnc3c2ccc2c(-c4ccccc4)ccnc23)cc1.c1ccc(-c2ccnc3c2ccc2c(-c4ccccc4)ccnc23)cc1', 'CC#N.CC#N.CC#N.CC#N.F[B-](F)(F)F.[Cu+]', 'CC(C)C(NC(=O)OC(C)(C)C)C(=O)O', 'CN(C)c1cc[nH+]cc1', 'CN1CCCC1=O', 'CC(C)C(=O)C1CCCCC1=O', '[Br-].[Cu+]', 'O=C([O-])C(F)(F)F.[K+]', 'CC(C)CN(C1CCCCC1)C1CCCCC1', 'O=C1OC(C(O)CO)C(O)=C1O.[Na]', '[Cs+].[F-]', 'O=C(O)O.[Cs]', 'O=S(=O)(O)C(F)(F)F.[Sm]', 'CN(C)C(=NC(C)(C)C)N(C)C', 'O=C1OC2(c3ccccc31)c1cc(Br)c(O)c(Br)c1Oc1c2cc(Br)c(O)c1Br.[Na]', 'F[P-](F)(F)(F)(F)F.[Ir+3].[c-]1ccccc1-c1ccccn1.[c-]1ccccc1-c1ccccn1.c1ccc(-c2ccccn2)nc1', 'CC#N.CC#N.CC#N.Cc1c(C)c(C)[c-](C)c1C.[Rh+3]', 'CCCCCCCCCCCC(=O)OOC(=O)CCCCCCCCCCC', '[Na+].[OH-]', 'O=C[O-].[Na+]', 'CC(C)(C)C(=O)[O-].[Na+]', 'CCN(CC)CC(N)C(C)(C)C.O=S(=O)(O)C(F)(F)F', 'Cn1ccc2ccccc21', 'C1CN=C2CCCN2C1', '[NaH]', 'CC(C)NCc1ccccc1', 'CC(C)(C)c1ccnc(-c2cc(C(C)(C)C)ccn2)c1.Cl[Ni]Cl', 'CC(C)(C)O', 'CC(C)(C)P(c1ccccc1-c1ccccc1)C(C)(C)C.Cl[Au]', 'CC(=O)[O-].CCCC[N+](CCCC)(CCCC)CCCC', '[Cu]I', 'CC[O+](CC)[B-](F)(F)F', '[2H]OC(=O)C(F)(F)F', 'CC[Si](CC)CC', 'c1ccc(C2=N[C@H]3c4ccccc4C[C@H]3O2)nc1', 'C[C]1[C](C)[C](C)[C](C)[C]1C.C[C]1[C](C)[C](C)[C](C)[C]1C.Cl[Rh]Cl.Cl[Rh]Cl', 'CC(C)(C)c1ccnc(-c2cc(C(C)(C)C)ccn2)c1.O.O.O.O.[Cl-].[Ni+2]', 'C[S-].[Na+]', 'COc1cc(OC)cc(-[n+]2c3cc(OC)cc(OC)c3c(-c3c(C)cc(C)cc3C)c3c(OC)cc(OC)cc32)c1.[O-][Cl+3]([O-])([O-])[O-]', 'FC(F)(F)c1ccc(-c2ccc(C(F)(F)F)cn2)nc1.F[P-](F)(F)(F)(F)F.Fc1c[c-]c(-c2ccc(C(F)(F)F)cn2)c(F)c1.Fc1c[c-]c(-c2ccc(C(F)(F)F)cn2)c(F)c1.[Ir+3]', 'Brc1cc(Br)c(-[n+]2cn3c(n2)COC2Cc4ccccc4C23)c(Br)c1.F[B-](F)(F)F', 'O=[N+]([O-])c1cccc([N+](=O)[O-])c1', 'O=C(O)c1ccccc1.[Ag]', 'O=P1(S)Oc2ccc3ccccc3c2-c2c(ccc3ccccc23)O1', 'CC(C)c1cccc(C(C)C)c1-n1[c-][n+](-c2c(C(C)C)cccc2C(C)C)cc1', 'CS(C)=O', 'C[Si](C)(C)OS(=O)(=O)C(F)(F)F', 'CC(C)(C)OOC(C)(C)C', 'COC(=O)C#CC(=O)OC', '[O-][Cl+3]([O-])([O-])O', '[N-]=[N+]=NS(=O)(=O)c1ccc(C(F)(F)F)cc1', 'CCCC[N+](CCCC)(CCCC)CCCC.[Cl-]', 'Sc1ccccc1', 'CC(C)(C)C1COC(c2ncccc2O)=N1', 'CC[C@]12CN3CCC1CC3C(c1ccnc3ccc(O)cc13)O2', 'Fc1c[c-]c(-c2ccccn2)cc1.Fc1c[c-]c(-c2ccccn2)cc1.Fc1c[c-]c(-c2ccccn2)cc1.[Ir+3]', '[Li]O', 'F[B-](F)(F)F.[Ru+2].c1ccc(-c2ccccn2)nc1.c1ccc(-c2ccccn2)nc1.c1ccc(-c2ccccn2)nc1', 'Cl.Cl.c1ccc([SnH2]c2ccccc2)cc1', 'CCCCN(CCCC)CCCC', 'N#Cc1c(N(c2ccccc2)c2ccccc2)c(C#N)c(N(c2ccccc2)c2ccccc2)c(N(c2ccccc2)c2ccccc2)c1N(c1ccccc1)c1ccccc1', 'Cc1cc(C)c([NH3+])c(C)c1.[Cl-]', 'O=S(=O)(OC1CN2CCC1CC2)c1ccccc1', '[Cl-].[Ru+2].c1ccc(-c2ccccn2)nc1.c1ccc(-c2ccccn2)nc1.c1ccc(-c2ccccn2)nc1', 'O=C(O)C(F)(F)F', 'O=S(O)S(=O)(=O)O.[K]', 'O=C([O-])c1ccccc1.[Cs+]', 'c1ccc(P(CCP(c2ccccc2)c2ccccc2)c2ccccc2)cc1', 'CN(C)CCN(C)C', 'COc1ccc(SSc2ccc(OC)cc2)cc1', 'c1ccc2c(c1)CC1OC(C3(C4=NC5c6ccccc6CC5O4)CC3)=NC21', 'O=C(O)c1ccccc1', 'O=P(O)(O)O.[K]', 'CC(C)(C1=N[C@@H](c2ccccc2)CO1)C1=N[C@@H](c2ccccc2)CO1', 'O=C1c2ccccc2C(=O)N1Cl', 'CC(C)c1cc(C(C)C)c(-c2ccc3c(c2)c2cc(-c4c(C(C)C)cc(C(C)C)cc4C(C)C)ccc2n3C2CCCCC2N)c(C(C)C)c1', 'COc1cc(OC)cc(-[n+]2c3cc(OC)cc(OC)c3c(-c3c(C)cc(C)cc3C)c3c(OC)cc(OC)cc32)c1.F[B-](F)(F)F', 'Cc1ccc(S(=O)(=O)N(C)Cl)cc1', 'CSC.Cl[Au]', 'O=S(=O)(O)C(F)(F)F.[In]', 'CC(=O)OOC(C)(C)C', 'C[Si](C)(C)N=[N+]=[N-]', 'O=[N+]([O-])[O-].[Ag+]', 'Cl[Au][P](c1ccccc1N1CCOCC1)(C12CC3CC(CC(C3)C1)C2)C12CC3CC(CC(C3)C1)C2', 'O=[N+]([O-])c1c(F)c(F)c(F)c(F)c1F', '[Br-].[Li+]', 'CC(=O)[O-].[Ag+]', 'Cn1c[n+](C)cn1.[I-]', 'CC1(C)c2cccc(P(c3ccccc3)c3ccccc3)c2Oc2c(P(c3ccccc3)c3ccccc3)cccc21', 'Cc1cc(C)c(-c2c3ccc(C(C)(C)C)cc3[n+](-c3ccccc3)c3cc(C(C)(C)C)ccc23)c(C)c1.F[B-](F)(F)F', 'CC(C)(C)c1ccnc(-c2cc(C(C)(C)C)ccn2)c1.FC1=C[C-](F)C(c2ccc(C(F)(F)F)cn2)=C=C1.FC1=C[C-](F)C(c2ccc(C(F)(F)F)cn2)=C=C1.F[P-](F)(F)(F)(F)F.[Ru+3]', 'CCC(C)C1CN(c2cc(C(C)(C)C)cc(C(C)(C)C)c2)C(C2=NC(C(C)CC)CN2c2cc(C(C)(C)C)cc(C(C)(C)C)c2)=N1', 'NCCO', 'CC(=O)O.O.[Co]', 'N#CC(C#N)c1ccccc1', 'Cc1ccnc(C2=NC(C(C)(C)C)CO2)c1', 'F[P-](F)(F)(F)(F)F.[Ru+2].c1ccc(-c2ccccn2)nc1.c1ccc(-c2ccccn2)nc1.c1ccc(-c2ccccn2)nc1', 'CC1CO1', 'Cc1cc(F)cc(C)c1-c1c2ccc(C(C)(C)C)cc2[n+](-c2ccccc2)c2cc(C(C)(C)C)ccc12.F[B-](F)(F)F', '[Cl-].[Cu+]', 'C1CN2CCN1CC2', '[2H]O[2H]', 'FC(F)(F)c1c[c-]c(-c2ccccn2)c(C(F)(F)F)c1.FC(F)(F)c1c[c-]c(-c2ccccn2)c(C(F)(F)F)c1.F[P-](F)(F)(F)(F)F.[Ir+3].c1cnc2c(c1)ccc1cccnc12', 'O=C(O)c1cnc[nH]1', 'ClC(Cl)(Cl)Cl', 'O=C([O-])c1cccs1.[Cu+]', 'CC#N.CC#N.CC#N.Cc1c(C)c(C)[c-](C)c1C.F[Sb-](F)(F)(F)(F)F.[Rh+3]', 'CCOP(c1ccccc1)c1ccccc1', 'OCC(F)(F)F', 'CC(=O)[O-].[Na+]', 'CC(C)(C)c1ccnc(-c2cc(C(C)(C)C)ccn2)c1.CC(C)(C)c1ccnc(-c2cc(C(C)(C)C)ccn2)c1.F[P-](F)(F)(F)(F)F.[Ru+2].c1ccc(-c2ccccn2)nc1', 'Fc1ccccc1F', 'CC(C)(C)C(=O)[O-].[K+]', 'O=C1OI(O)c2c(F)c(F)c(F)c(F)c21', 'Cc1cc(C)c(-c2c3ccccc3[n+](C)c3ccccc23)c(C)c1.F[B-](F)(F)F', 'CN1CCCN(C)C1=O', 'N#Cc1c(-n2c3ccccc3c3ccccc32)c(Cl)c(-n2c3ccccc3c3ccccc32)c(C#N)c1-n1c2ccccc2c2ccccc21', 'CS[C@@H]1OC(CO)[C@H](O)C(O)[C@H]1O', 'COc1ccnc2c1ccc1c(OC)ccnc12', 'NC(=O)[O-].O.[NH4+]', '[Cl].[Rh].c1ccc(P(c2ccccc2)c2ccccc2)cc1.c1ccc(P(c2ccccc2)c2ccccc2)cc1.c1ccc(P(c2ccccc2)c2ccccc2)cc1', 'CC(=O)[O-].[NH4+]', 'C1CN2CCC1CC2', '[2H]C([2H])([2H])C#N', 'O=S(=O)(O)O', 'CC(=O)O.[Zn]', 'C[P](C)(C)[Au]Cl', 'C1COC(C2=NCCO2)=N1', 'Cc1cn(C)c2ccccc12', 'O=C1CCC(=O)N1I', 'CCN(C#N)CCC[NH+](C)C.[Cl-]', 'CC1(C)OC(C(C#N)=C2NC(c3ccccc3)C(C)(C)O2)=NC1c1ccccc1', 'CC[N+](CC)(CC)CC.F[B-](F)(F)F', 'CCC(=O)[O-].[K+]', 'CC1(C)c2cccc3c2Oc2c1cccc2[P](c1ccccc1)(c1ccccc1)[Cu+][P]3(c1ccccc1)c1ccccc1.Cc1ccc2ccc3ccc(C)nc3c2n1.F[B-](F)(F)F', 'C[Si](C)O[Si](C)C', 'S=c1[nH]c(=S)[nH]c(=S)[nH]1.[Na]', 'FC(F)(F)c1ccnc(-c2cc(C(F)(F)F)ccn2)c1.F[P-](F)(F)(F)(F)F.Fc1c[c-]c(-c2ccc(C(F)(F)F)cn2)c(F)c1.Fc1c[c-]c(-c2ccc(C(F)(F)F)cn2)c(F)c1.[Ir+3]', 'C=C(CNC(=O)c1ccccc1)c1ccccc1', 'O=S(=O)(c1ccccc1)N(F)S(=O)(=O)c1ccccc1', 'FC(F)(F)c1c[c-]c(-c2ccccn2)cc1.FC(F)(F)c1c[c-]c(-c2ccccn2)cc1.FC(F)(F)c1c[c-]c(-c2ccccn2)cc1.[Ir+3]', 'O=S(=O)(O)OOS(=O)(=O)O.[K]', 'O=C(O)C(F)(F)F.[Pd]', 'N#Cc1c(-n2c3ccccc3c3ccccc32)c(C#N)c(-n2c3ccccc3c3ccccc32)c(C#N)c1-n1c2ccccc2c2ccccc21', 'O=S(=O)(N([Au][P](c1ccccc1)(c1ccccc1)c1ccccc1)S(=O)(=O)C(F)(F)F)C(F)(F)F', 'CC(=O)O.CC(=O)O.Cc1ccc(C(C)C)cc1.[Ru]', 'C1CCC(NC2CCCCC2)CC1', '[2H]C([2H])(Cl)Cl', 'F[B-](F)(F)F.F[N+]12CC[N+](CCl)(CC1)CC2', 'CC(C)[Si](C#Cc1c2cc3ccccc3cc2c(C#C[Si](C(C)C)(C(C)C)C(C)C)c2cc3ccccc3cc12)(C(C)C)C(C)C', 'CC(C)[SiH](C(C)C)C(C)C', 'NC1CCCCC1N', 'CCCCCCCC/C=C\\\\CCCCCCCCN', 'CC(=O)O.[Pd]', 'O=C1C(O)=C(O)OC1C(O)CO', 'CC(C)(C)OP(=O)([O-])OC(C)(C)C.CCCC[N+](CCCC)(CCCC)CCCC', 'CC(=O)OI1OC(=O)c2ccccc21', 'CC#N.CC#N.CC#N.CC#N.F[B-](F)(F)F.[Pd+2]', 'CC(=N\\\\[O-])/C(C)=N/O.CC(=N\\\\[O-])/C(C)=N/O.F[P-](F)(F)(F)(F)F.[Co+3].c1ccncc1.c1ccncc1', 'c1ccc(-c2cn3ccccc3n2)cc1', '[Ag+].[F].[F].[F].[F].[F].[F].[Sb]', 'CC(C)(C)OOC(=O)c1ccccc1'])\n"
     ]
    }
   ],
   "source": [
    "print(feats_dict.keys())"
   ]
  },
  {
   "cell_type": "code",
   "execution_count": 311,
   "id": "ddfe63e9",
   "metadata": {
    "scrolled": true
   },
   "outputs": [
    {
     "data": {
      "text/plain": [
       "array([[ 1.21358521e-02, -1.52870808e-02, -1.50154792e-02,\n",
       "        -2.98087150e-02,  3.07745896e-02, -3.47195030e-03,\n",
       "         2.87101278e-03,  4.66926903e-01,  7.62044191e-02,\n",
       "        -2.12006010e-02,  1.93438958e-02, -2.97130528e-03,\n",
       "        -1.79514252e-02,  6.64698845e-03,  2.24417932e-02,\n",
       "         3.78348850e-05,  4.46963077e-03, -8.00931174e-03,\n",
       "        -1.82744078e-02, -1.37172118e-02, -2.17517540e-02,\n",
       "         1.07142301e-02, -6.05250010e-03, -8.06475698e-04,\n",
       "         2.57298164e-02,  2.69726524e-03,  7.15837814e-03,\n",
       "         6.38595503e-03, -1.28333410e-02, -1.49437850e-02,\n",
       "        -1.14649888e-02, -1.13183372e-02, -4.57403921e-02,\n",
       "         8.19255505e-03,  8.61983776e+00,  3.62553401e-03,\n",
       "        -3.85459792e-03, -8.04318115e-03,  3.32026184e-03,\n",
       "         1.28696159e-01,  1.55434916e-02,  1.07812611e-02,\n",
       "         8.69719218e-03, -6.80710971e-02,  1.46662667e-01,\n",
       "         9.98359825e-03, -1.79392379e-02, -5.95172774e-03,\n",
       "         8.54653132e-04,  1.41477329e-03, -2.23670527e-03,\n",
       "         9.93465260e-03, -1.57305028e-03, -1.69710703e-02,\n",
       "        -9.79185104e-03, -6.69603236e-04, -1.62203442e-02,\n",
       "        -1.27752479e-02,  1.38419434e-01,  4.68172785e-03,\n",
       "        -1.06528969e-02, -2.88416562e-03, -1.04597118e-02,\n",
       "        -6.91389013e-03,  9.67431697e-04, -1.21749397e-02,\n",
       "        -7.39187794e-03,  4.47746227e-03,  1.60165392e-02,\n",
       "        -6.80340268e-03,  4.01213430e-02,  7.82673806e-03,\n",
       "         1.04495883e-02,  4.63374937e-03,  2.16025393e-03,\n",
       "        -4.18348968e-01, -1.66635626e-04, -2.27410085e-02,\n",
       "        -7.22052623e-03, -1.02632949e-02,  1.47467947e+00,\n",
       "        -4.76796888e-02,  6.56489702e-03,  3.75428353e-03,\n",
       "         1.58727057e-02, -1.76224913e-02, -1.79686733e-02,\n",
       "        -5.35544800e-03, -4.58342675e-03,  2.19650310e-03,\n",
       "        -4.06494170e-01,  1.89737864e-02, -2.82103382e-02,\n",
       "        -1.41415782e-02, -3.80126410e-03, -2.19021272e-02,\n",
       "        -1.09867202e-02, -8.34362581e-03, -5.03169233e-03,\n",
       "         1.25053641e-03,  4.11613565e-03, -7.41567463e-04,\n",
       "         8.33916950e+00,  9.94176604e-03, -1.88911017e-02,\n",
       "        -1.41921770e-02,  9.60648246e-03,  1.08829690e-02,\n",
       "        -7.00157136e-03,  5.35928819e-04,  8.71058740e-03,\n",
       "         1.88513566e-02,  6.48811366e-03, -9.63055436e-03,\n",
       "        -1.03904389e-01, -2.52407184e-03,  2.02917270e-02,\n",
       "         6.30579889e-03, -6.18126942e-05,  4.25505266e-02,\n",
       "         3.27166729e-02,  3.63670685e-03,  9.48313996e-03,\n",
       "        -1.07769398e-02, -1.30705163e-02,  1.98525377e-02,\n",
       "         2.01554247e-03,  1.18780300e-01, -5.87743288e-03,\n",
       "         1.39234997e-02, -3.51758510e-01, -9.39135253e-03,\n",
       "        -2.10074615e-03,  3.80418496e-03,  9.71376058e-03,\n",
       "         1.86958071e-02,  7.21317297e-03,  1.02160117e-02,\n",
       "         9.54947062e-03,  2.33589415e-03,  1.97288059e-02,\n",
       "         1.51765184e-03,  7.41127692e-03, -6.97435113e-03,\n",
       "        -2.43611671e-02, -6.14412548e-03, -5.16851712e-03,\n",
       "         1.26152830e-02,  3.14840768e-03,  1.02593461e-02,\n",
       "         6.92953588e-03,  1.30875498e-01,  7.57899508e-03,\n",
       "         1.18464921e-02, -3.99565650e-03,  5.83597342e-04,\n",
       "        -9.40419175e-03, -2.38291882e-02,  1.84598262e-03,\n",
       "         5.15786037e-02,  1.33378476e-01,  4.66453657e-03,\n",
       "         3.16235912e-03, -1.82837825e-02,  5.72222238e-03,\n",
       "         2.94431858e-03,  1.57638080e-03,  2.89033004e-03,\n",
       "         5.80134196e-03, -1.20368987e-01,  5.09162731e-02,\n",
       "        -1.05558417e-03,  8.24046433e-02,  1.25830518e-02,\n",
       "         7.33886436e-02, -4.71915025e-03,  7.59340869e-03,\n",
       "        -3.06075579e-03, -9.53492522e-02, -1.50795057e-02,\n",
       "        -3.52867581e-02,  8.68595950e-03,  2.03293189e-02,\n",
       "        -1.30853904e-02,  8.56703967e-02, -6.40995568e-03,\n",
       "        -4.64540832e-02,  1.52761827e-03,  2.10037746e+01,\n",
       "        -7.28598889e-03,  7.38416659e-03, -1.07232127e-02,\n",
       "         6.64932886e-03,  3.77521455e-01,  1.69366680e-03,\n",
       "        -2.26436951e-03, -3.11102509e-03, -9.91967693e-03,\n",
       "        -2.25843899e-02, -9.85031854e-03, -9.11404379e-03,\n",
       "        -1.02829244e-02, -7.42059899e-03, -3.93208349e-03,\n",
       "         1.14893634e-02, -1.18736213e-03, -1.64410961e-03,\n",
       "        -2.95508257e-03, -7.41001358e-03, -2.29856685e-01,\n",
       "        -1.74527639e-04,  1.24586206e-02,  2.37094751e-03,\n",
       "        -4.21705768e-02, -1.49587672e-02,  1.03457710e-02,\n",
       "         1.16868578e-01, -1.10518448e-02,  6.79144496e-03,\n",
       "        -1.45012676e-03,  8.24193563e-03, -1.10297638e-04,\n",
       "        -5.00619039e-03, -1.94100093e-03, -1.02766240e-02,\n",
       "        -3.20053427e-03,  2.06323210e-02, -3.95904342e-03,\n",
       "         7.27710593e-03,  6.86122328e-02, -3.08573106e-03,\n",
       "         1.00429216e-03, -1.35468775e-02, -3.15861845e+00,\n",
       "         4.79427725e-03,  2.69974902e-04,  9.57177021e-03,\n",
       "        -1.54881641e-01,  1.84762254e-02, -9.80828796e-03,\n",
       "        -5.06040640e-03, -1.57588634e+01,  4.78685834e-03,\n",
       "         2.17676666e-02, -4.81112860e-03,  1.19722923e-02,\n",
       "        -2.00147703e-02, -1.50658600e-02,  1.67732462e-02,\n",
       "         7.63044134e-03, -2.56667901e-02, -2.37296917e-03,\n",
       "         9.66462947e-04, -7.15362281e-02,  8.99086054e-03,\n",
       "         8.68297648e-03,  1.90178514e-03,  1.47503195e+01,\n",
       "        -8.72951746e-03, -1.25983218e-03, -1.09890312e-01,\n",
       "         3.22716148e-03,  3.40273418e-02, -3.15577374e-03,\n",
       "         4.25760727e-03, -1.66825727e-02, -1.08012306e-02,\n",
       "        -6.40853215e-03,  2.70229764e-04,  3.06935236e-03,\n",
       "        -4.90481965e-03, -3.84713896e-03,  5.79723343e-02,\n",
       "         1.95531826e-03, -2.65011694e-02,  4.12665419e-02,\n",
       "         8.48913006e-03, -1.55484013e-04,  9.02570970e-03,\n",
       "        -5.36749046e-03,  7.21386122e-03,  3.14188339e-02,\n",
       "        -2.07986636e-03,  9.22554359e-03,  2.08863225e-02,\n",
       "        -5.52832603e-01,  9.96990316e-03, -1.99148711e-02,\n",
       "         1.52927246e-02, -4.22576629e-03,  3.78504321e-02,\n",
       "        -5.79782575e-03,  1.72713138e-02,  1.39126619e-02,\n",
       "         1.76717024e-02, -2.89646611e-02, -1.65274423e-02,\n",
       "        -1.77026764e-02,  1.59268547e-02, -1.30310822e-02,\n",
       "        -5.97085133e-02, -1.83494687e-01,  1.35283647e-02,\n",
       "        -1.24417320e-02, -1.08431838e-02,  9.52852610e-03,\n",
       "         1.25886106e+00,  1.17057813e-02,  1.90872103e-02,\n",
       "         9.75880073e-04,  3.61056175e+01, -9.85156558e-03,\n",
       "         1.71951782e-02,  6.25994382e-03, -2.33359952e-02,\n",
       "         2.44297204e-03, -1.14006074e-02,  7.14822859e-03,\n",
       "        -4.88065090e-03,  5.16904658e-03,  7.99886137e-03,\n",
       "        -7.66402716e-03, -1.39386728e-02,  7.12411776e-02,\n",
       "         1.41024473e-03,  1.30816326e-02, -1.23737669e-02,\n",
       "         1.34637887e-02,  8.32248945e-03, -1.06820976e-02,\n",
       "        -9.38715786e-03, -2.32913997e-03, -1.97777040e-02,\n",
       "        -3.05739697e-02,  6.04906632e-03,  7.59493542e+00,\n",
       "        -1.00627430e-01,  1.60088446e-02,  1.72038167e-03,\n",
       "         2.86180153e-02,  8.79166889e+00, -8.08949023e-03,\n",
       "        -1.38295561e-01, -2.45056930e-04, -5.12781134e-03,\n",
       "         1.51665751e-02,  4.07399930e-04, -2.26815208e-03,\n",
       "         1.06445011e-02,  4.67038620e-03,  2.93381279e-03,\n",
       "         4.52179986e-04, -3.18417419e-03, -4.57559805e-03,\n",
       "         1.16880974e-02, -1.31767355e-02,  7.56103620e-02,\n",
       "        -9.11079813e-04, -3.55472192e-02,  1.27379056e-02,\n",
       "        -3.99869867e-03, -1.84668158e-03, -1.99037767e-03,\n",
       "         4.93542384e-03,  1.58965830e-02, -1.16478324e-01,\n",
       "         8.47304147e-03, -4.66662884e+00,  1.12047559e-03,\n",
       "         9.89328045e-03,  4.63542808e-03, -7.22807366e-03,\n",
       "         1.10568283e-02,  1.26015162e-03, -1.07355462e-02,\n",
       "        -4.79325140e-03,  1.33719444e-02,  2.39701420e-02,\n",
       "         1.50487768e-02,  2.69737523e-02, -2.07290240e-02,\n",
       "         1.19205809e-03,  1.02093056e-01,  5.65500110e-02,\n",
       "         1.98058952e-02,  1.40521064e-01,  1.75947957e-02,\n",
       "         5.61952824e-03, -1.11296149e-02,  3.89289632e-02,\n",
       "         2.25411318e-02, -5.54613071e-05, -1.60928033e-02,\n",
       "         5.85011486e-03,  1.50556685e-02, -1.01451101e-02,\n",
       "         4.14479710e-03, -1.03283495e-01, -1.64571572e-02,\n",
       "        -6.03728415e-03, -1.23617910e-02, -2.69513857e-02,\n",
       "        -3.64854597e-02,  7.13159097e-05,  7.81888724e-04,\n",
       "        -2.08250456e-03,  2.21354645e-02,  7.79604714e-04,\n",
       "         1.10161528e-01,  8.96373298e-04, -1.27767250e-01,\n",
       "         4.76854760e-03, -3.98265803e-03,  9.74244624e-03,\n",
       "        -1.28461635e-02, -1.33062126e-02,  2.73196995e-01,\n",
       "        -4.13841866e-02,  7.07525110e+00, -7.93516170e-03,\n",
       "         1.86630094e-03,  5.02421241e-03, -1.39631634e-03,\n",
       "        -6.82810135e-03,  7.64249219e-03, -6.43880246e-03,\n",
       "         1.38878115e-02,  1.16170840e-02,  4.41113859e-03,\n",
       "        -5.28059155e-03, -6.42553624e-03,  2.71851253e-02,\n",
       "        -4.86155972e-03,  4.23037559e-02, -1.37041206e-03,\n",
       "        -1.75908208e-02, -3.54310730e-04,  4.50517274e-02,\n",
       "         5.17551508e-03, -4.93524492e-01,  8.96662381e-03,\n",
       "        -1.00022936e-02, -2.86756195e-02, -1.14333630e-02,\n",
       "         5.27538359e-03, -1.23824598e-02, -1.37940357e-02,\n",
       "        -4.06997025e-01,  2.27412991e-02, -1.36242453e-02,\n",
       "         1.94506552e-02,  4.64311946e-04, -5.63297831e-02,\n",
       "         3.45946625e-02, -2.17993706e-02,  1.40441339e-02,\n",
       "         2.32562944e-02, -6.91598002e-03,  1.36064189e-02,\n",
       "        -1.76764969e-02,  1.08581046e-02,  5.15287630e-02,\n",
       "        -4.10228036e-03, -2.90875696e-02, -1.28897019e-02,\n",
       "         2.94525642e-03, -4.81155217e-02,  3.17381658e-02,\n",
       "        -1.78389647e-03,  1.69980302e-02,  6.32806867e-03,\n",
       "         1.76247824e-02, -1.12862303e-03,  1.53594771e-02,\n",
       "         6.52861316e-03,  6.14372082e-03, -1.14523247e-02,\n",
       "         8.38655885e-03, -3.35390051e-03, -1.88818499e-02,\n",
       "         1.51241971e-02,  8.49804375e-03, -1.08810281e-03,\n",
       "        -3.59614678e-02, -9.41808745e-02, -1.19890017e-03,\n",
       "        -6.53497223e-03, -1.05530443e-02,  3.11032683e-03,\n",
       "        -9.36097186e-03, -5.89704514e-03, -6.48414600e-04,\n",
       "        -2.74303090e-03, -1.02190590e-02,  5.85688613e-02,\n",
       "        -1.00263953e-02, -4.64631748e+00, -3.57284350e-03,\n",
       "        -1.46794301e-02,  6.17261045e-03, -2.58213049e-03,\n",
       "        -6.60116877e-03, -2.60055833e-03, -7.08466303e-03,\n",
       "         3.73984105e-03,  1.26118967e-02,  2.47818534e-03,\n",
       "        -1.85229629e-02,  3.34494840e-03, -4.11609479e-04,\n",
       "         1.26632489e-03,  3.41914501e-03]], dtype=float32)"
      ]
     },
     "execution_count": 311,
     "metadata": {},
     "output_type": "execute_result"
    }
   ],
   "source": [
    "from sklearn.decomposition import PCA\n",
    "from joblib import dump, load\n",
    "import numpy as np\n",
    "def molclr_pca(feats_dict, out_dim=96):\n",
    "    feats = np.array(list(feats_dict.values())).squeeze()\n",
    "    pca = PCA(n_components=out_dim, whiten=True)\n",
    "    feats = pca.fit_transform(feats)\n",
    "    dump(pca, 'molclr_pca.pkl')\n",
    "    new_feats_dict = {k: m[None, ...] for k, m in zip(list(feats_dict.keys()), feats)}\n",
    "    return new_feats_dict\n",
    "\n",
    "feats = r'E:\\projects\\photocatalysis_whu\\pred_yield\\data\\all_mol_molclr_feats_512.npy'\n",
    "feats_dict = np.load(feats, allow_pickle=True).item()\n",
    "x = feats_dict['CC(C)(C)OP(=O)([O-])OC(C)(C)C.CCCC[N+](CCCC)(CCCC)CCCC']\n",
    "x\n",
    "# print(feats_dict['Fc1ccccc1F'].shape)\n",
    "# feats = molclr_pca(feats_dict)\n",
    "# print(feats.shape)"
   ]
  },
  {
   "cell_type": "code",
   "execution_count": 312,
   "id": "9307c6ea",
   "metadata": {},
   "outputs": [
    {
     "data": {
      "text/plain": [
       "(1, 96)"
      ]
     },
     "execution_count": 312,
     "metadata": {},
     "output_type": "execute_result"
    }
   ],
   "source": [
    "pca_model = load('molclr_pca.pkl')\n",
    "pca_model.transform(x).shape\n"
   ]
  },
  {
   "cell_type": "code",
   "execution_count": 61,
   "id": "86f7c173",
   "metadata": {
    "scrolled": false
   },
   "outputs": [
    {
     "name": "stdout",
     "output_type": "stream",
     "text": [
      "1884\n",
      "4421\n",
      "4764\n"
     ]
    },
    {
     "ename": "NameError",
     "evalue": "name 'xxx' is not defined",
     "output_type": "error",
     "traceback": [
      "\u001b[1;31m---------------------------------------------------------------------------\u001b[0m",
      "\u001b[1;31mNameError\u001b[0m                                 Traceback (most recent call last)",
      "\u001b[1;32m~\\AppData\\Local\\Temp\\ipykernel_22200\\1238985915.py\u001b[0m in \u001b[0;36m<module>\u001b[1;34m\u001b[0m\n\u001b[0;32m     18\u001b[0m \u001b[0mprint\u001b[0m\u001b[1;33m(\u001b[0m\u001b[0mlen\u001b[0m\u001b[1;33m(\u001b[0m\u001b[0mmed\u001b[0m\u001b[1;33m)\u001b[0m\u001b[1;33m)\u001b[0m\u001b[1;33m\u001b[0m\u001b[1;33m\u001b[0m\u001b[0m\n\u001b[0;32m     19\u001b[0m \u001b[0mprint\u001b[0m\u001b[1;33m(\u001b[0m\u001b[0mlen\u001b[0m\u001b[1;33m(\u001b[0m\u001b[0mhigh\u001b[0m\u001b[1;33m)\u001b[0m\u001b[1;33m)\u001b[0m\u001b[1;33m\u001b[0m\u001b[1;33m\u001b[0m\u001b[0m\n\u001b[1;32m---> 20\u001b[1;33m \u001b[0mxxx\u001b[0m\u001b[1;33m\u001b[0m\u001b[1;33m\u001b[0m\u001b[0m\n\u001b[0m\u001b[0;32m     21\u001b[0m \u001b[1;32mimport\u001b[0m \u001b[0mmatplotlib\u001b[0m\u001b[1;33m.\u001b[0m\u001b[0mpyplot\u001b[0m \u001b[1;32mas\u001b[0m \u001b[0mplt\u001b[0m\u001b[1;33m\u001b[0m\u001b[1;33m\u001b[0m\u001b[0m\n\u001b[0;32m     22\u001b[0m \u001b[0mweights\u001b[0m \u001b[1;33m=\u001b[0m \u001b[0mnp\u001b[0m\u001b[1;33m.\u001b[0m\u001b[0mones_like\u001b[0m\u001b[1;33m(\u001b[0m\u001b[0mys\u001b[0m\u001b[1;33m)\u001b[0m\u001b[1;33m/\u001b[0m\u001b[0mfloat\u001b[0m\u001b[1;33m(\u001b[0m\u001b[0mlen\u001b[0m\u001b[1;33m(\u001b[0m\u001b[0mys\u001b[0m\u001b[1;33m)\u001b[0m\u001b[1;33m)\u001b[0m\u001b[1;33m\u001b[0m\u001b[1;33m\u001b[0m\u001b[0m\n",
      "\u001b[1;31mNameError\u001b[0m: name 'xxx' is not defined"
     ]
    }
   ],
   "source": [
    "import numpy as np\n",
    "import matplotlib.pyplot as plt\n",
    "from sklearn.preprocessing import PolynomialFeatures\n",
    "from sklearn.linear_model import LinearRegression\n",
    "from sklearn.metrics import mean_squared_error\n",
    "data = np.load('./raw_reaction_data.npy', allow_pickle=True)\n",
    "\n",
    "ys = []\n",
    "for rxn, y in data:\n",
    "    ys.append(y)\n",
    "\n",
    "low, med, high = [], [], []\n",
    "for y in ys:\n",
    "    if y < 0.4: low.append(y)\n",
    "    if y>=0.7: high.append(y)\n",
    "    if y>=0.4 and y<0.7: med.append(y)\n",
    "print(len(low))\n",
    "print(len(med))\n",
    "print(len(high))\n",
    "\n",
    "import matplotlib.pyplot as plt\n",
    "weights = np.ones_like(ys)/float(len(ys))\n",
    "\n",
    "fig = plt.figure()\n",
    "# hist\n",
    "nt, bins, _ = plt.hist(ys, bins=10, weights=weights)\n",
    "\n",
    "x = np.array([(bins[i]+bins[i+1])/2. for i in range(0, len(bins)-1)]).reshape(-1,1)\n",
    "y = np.array(nt).reshape(-1,1)\n",
    "# prior probs\n",
    "plt.plot(x, y, 'm.')\n",
    "\n",
    "poly_feats = PolynomialFeatures(degree=4, include_bias=False)\n",
    "x_poly = poly_feats.fit_transform(x)\n",
    "lin_reg = LinearRegression()\n",
    "lin_reg.fit(x_poly, y)\n",
    "# regression coefficients\n",
    "print()\n",
    "print(lin_reg.intercept_, lin_reg.coef_)\n",
    "\n",
    "y_pred = np.dot(x_poly, lin_reg.coef_.T) + lin_reg.intercept_\n",
    "plt.plot(x, y_pred, 'm-')\n",
    "# plt.plot(x, 0.3-np.sqrt(y_pred), 'g.')\n",
    "plt.plot(x, 0.2-y_pred, 'k*')\n",
    "plt.show()"
   ]
  },
  {
   "cell_type": "code",
   "execution_count": 15,
   "id": "c37d2e3e",
   "metadata": {},
   "outputs": [
    {
     "name": "stderr",
     "output_type": "stream",
     "text": [
      "C:\\Users\\admin\\anaconda3\\envs\\chem\\lib\\site-packages\\ipykernel_launcher.py:23: UserWarning: Matplotlib is currently using module://matplotlib_inline.backend_inline, which is a non-GUI backend, so cannot show the figure.\n"
     ]
    },
    {
     "data": {
      "image/png": "[encoded data removed]",
      "text/plain": [
       "<Figure size 640x480 with 1 Axes>"
      ]
     },
     "metadata": {},
     "output_type": "display_data"
    }
   ],
   "source": [
    "def get_loss_weights(y: None, prior_bias=0.2):\n",
    "    # y can be float, list, np.array, or torch.tensor\n",
    "    #\n",
    "    yield_priors = lambda x:   0.0130 \\\n",
    "                             + 0.0035*x \\\n",
    "                             - 0.0950*x**2 \\\n",
    "                             + 0.8200*x**3 \\\n",
    "                             - 0.7400*x**4\n",
    "\n",
    "    if isinstance(y, float) or isinstance(y, int):\n",
    "        w = prior_bias-yield_priors(y)\n",
    "        return w\n",
    "\n",
    "    ws = prior_bias-np.array(list(map(yield_priors, y)))\n",
    "    # ws = (ws*10)**2 # too vigorous weights may make unfavored results\n",
    "    return ws\n",
    "\n",
    "# x = np.arange(0, 1, 0.01)\n",
    "y = get_loss_weights(x)\n",
    "fig = plt.figure()\n",
    "plt.plot(x, y, 'm-')\n",
    "plt.plot(x, 0.2-y_pred, 'r-')\n",
    "fig.show()"
   ]
  },
  {
   "cell_type": "code",
   "execution_count": 56,
   "id": "dc3bf735",
   "metadata": {},
   "outputs": [
    {
     "name": "stdout",
     "output_type": "stream",
     "text": [
      "<class 'numpy.ndarray'>\n",
      "{0: 1.6083550348533762, 1: 1.5159912807245406, 2: 1.4145614511731555, 3: 1.2136250385718474, 4: 0.9834549124270835, 5: 0.7650819998320295, 6: 0.6515703681974382, 7: 0.6147386076544852, 8: 0.7299077538882686, 9: 1.161039929030088, 10: 1.161039929030088}\n"
     ]
    },
    {
     "name": "stderr",
     "output_type": "stream",
     "text": [
      "C:\\Users\\admin\\anaconda3\\envs\\chem\\lib\\site-packages\\ipykernel_launcher.py:20: UserWarning: Matplotlib is currently using module://matplotlib_inline.backend_inline, which is a non-GUI backend, so cannot show the figure.\n"
     ]
    },
    {
     "data": {
      "image/png": "[encoded data removed]",
      "text/plain": [
       "<Figure size 640x480 with 1 Axes>"
      ]
     },
     "metadata": {},
     "output_type": "display_data"
    }
   ],
   "source": [
    "def get_loss_weights(y: None, exponent: float = 1.2):\n",
    "    probs = np.array([0.173, 0.207, 0.249, 0.351, 0.514, 0.750, 0.929, 1.000, 0.800, 0.383, 0.383])\n",
    "    ids = [0, 1, 2, 3, 4, 5, 6, 7, 8, 9, 10]\n",
    "    weights = 1. / (probs + 0.5) ** exponent\n",
    "    weight_dict = dict(zip(ids, weights))\n",
    "    print(weight_dict)\n",
    "    if isinstance(y, float) or isinstance(y, int):\n",
    "        w = prior_bias-torch.tensor(yield_priors(y))\n",
    "        return weight_dict[floor(y*10)]\n",
    "    if isinstance(y, torch.Tensor):\n",
    "        return torch.tensor([weight_dict[floor(yy*10)] for yy in y])\n",
    "    if isinstance(y, np.ndarray):\n",
    "        return np.array([weight_dict[floor(yy*10)] for yy in y])\n",
    "    \n",
    "x = np.arange(0., 1.0, 0.01)\n",
    "print(type(x))\n",
    "y = get_loss_weights(x)\n",
    "plt.plot(x, y, 'm-')\n",
    "\n",
    "fig.show()"
   ]
  },
  {
   "cell_type": "code",
   "execution_count": 29,
   "id": "28d7c9bc",
   "metadata": {},
   "outputs": [],
   "source": [
    "import numpy as np\n",
    "import matplotlib.pyplot as plt\n",
    "from math import floor\n",
    "import torch\n",
    "\n",
    "def get_weight(yd, exponent=1):\n",
    "    \"\"\"\n",
    "    yield -> key: 0.12 -> 1, 0.98 -> 9\n",
    "    :param exponent: 1 / (count+0.5) ** exponent\n",
    "    :param yd: yield\n",
    "    :return: weight\n",
    "    \"\"\"\n",
    "    count_ar = np.array([1., 0.92762744, 0.79295154, 0.74008811, 0.46192574,\n",
    "                         0.36563877, 0.23599748, 0.10258024, 0.05286344, 0.])\n",
    "    count_ind = [7, 6, 8, 5, 4, 9, 3, 2, 1, 0]\n",
    "    weight = 1 / (count_ar + 0.5) ** exponent\n",
    "    weight_yd = dict(zip(count_ind, weight))\n",
    "    weight_yd[10] = weight_yd[9]\n",
    "    return weight_yd[floor(yd * 10)]  # 产率为100%情形，和9保持相同\n",
    "\n",
    "def get_weight_1d(yd_1d, exponent=1):\n",
    "    res = [get_weight(each, exponent) for each in yd_1d]\n",
    "    if isinstance(yd_1d, torch.Tensor):\n",
    "        return torch.Tensor(res).to(yd_1d.device)\n",
    "    if isinstance(yd_1d, np.ndarray):\n",
    "        return np.asarray(res)\n",
    "    return res"
   ]
  },
  {
   "cell_type": "code",
   "execution_count": 6,
   "id": "3088462c",
   "metadata": {},
   "outputs": [
    {
     "name": "stderr",
     "output_type": "stream",
     "text": [
      "C:\\Users\\admin\\anaconda3\\envs\\chem\\lib\\site-packages\\ipykernel_launcher.py:5: UserWarning: Matplotlib is currently using module://matplotlib_inline.backend_inline, which is a non-GUI backend, so cannot show the figure.\n",
      "  \"\"\"\n"
     ]
    },
    {
     "data": {
      "image/png": "[encoded data removed]",
      "text/plain": [
       "<Figure size 640x480 with 1 Axes>"
      ]
     },
     "metadata": {},
     "output_type": "display_data"
    }
   ],
   "source": [
    "x = np.arange(0,1.01,0.01)\n",
    "y = get_weight_1d(x)\n",
    "fig = plt.figure()\n",
    "plt.plot(x, y, 'r*')\n",
    "fig.show()"
   ]
  },
  {
   "cell_type": "code",
   "execution_count": 8,
   "id": "51c5cdfe",
   "metadata": {},
   "outputs": [
    {
     "name": "stderr",
     "output_type": "stream",
     "text": [
      "C:\\Users\\admin\\anaconda3\\envs\\chem\\lib\\site-packages\\ipykernel_launcher.py:6: UserWarning: Matplotlib is currently using module://matplotlib_inline.backend_inline, which is a non-GUI backend, so cannot show the figure.\n",
      "  \n"
     ]
    },
    {
     "data": {
      "image/png": "[encoded data removed]",
      "text/plain": [
       "<Figure size 640x480 with 1 Axes>"
      ]
     },
     "metadata": {},
     "output_type": "display_data"
    }
   ],
   "source": [
    "count_ar = np.array([1., 0.92762744, 0.79295154, 0.74008811, 0.46192574,\n",
    "                         0.36563877, 0.23599748, 0.10258024, 0.05286344, 0.])\n",
    "count_ind = [7, 6, 8, 5, 4, 9, 3, 2, 1, 0]\n",
    "fig = plt.figure()\n",
    "plt.scatter(count_ind, count_ar)\n",
    "fig.show()"
   ]
  },
  {
   "cell_type": "code",
   "execution_count": 187,
   "id": "a745b94b",
   "metadata": {},
   "outputs": [
    {
     "name": "stdout",
     "output_type": "stream",
     "text": [
      "dict_keys(['train', 'vali', 'test'])\n"
     ]
    }
   ],
   "source": [
    "file = r\"C:\\Users\\admin\\Downloads\\train_set_cover_subset-merge_regsol.pkl\"\n",
    "file = r'C:\\Users\\admin\\Downloads\\split_ind-modify_catreg-rule_split.pkl'\n",
    "import pickle\n",
    "with open(file, 'rb') as f:\n",
    "    ids = pickle.load(f)\n",
    "print(ids.keys())"
   ]
  },
  {
   "cell_type": "code",
   "execution_count": 208,
   "id": "2fec0b4e",
   "metadata": {},
   "outputs": [],
   "source": [
    "tr = set(ids['train'])\n",
    "va = set(ids['vali'])\n",
    "te = set(ids['test'])\n",
    "train_id2split = {v:'train' for v in ids['train']}\n",
    "valid_id2split = {v:'valid' for v in ids['vali']}\n",
    "test_id2split = {v:'test' for v in ids['test']}\n",
    "all_splits = {**train_id2split, **valid_id2split, **test_id2split}"
   ]
  },
  {
   "cell_type": "code",
   "execution_count": 191,
   "id": "4a87f09a",
   "metadata": {},
   "outputs": [
    {
     "name": "stdout",
     "output_type": "stream",
     "text": [
      "<class 'pandas.core.frame.DataFrame'>\n",
      "RangeIndex: 11069 entries, 0 to 11068\n",
      "Data columns (total 12 columns):\n",
      " #   Column            Non-Null Count  Dtype  \n",
      "---  ------            --------------  -----  \n",
      " 0   Reactants_Smiles  11069 non-null  object \n",
      " 1   Products_Smiles   11069 non-null  object \n",
      " 2   Reagents_Smiles   11069 non-null  object \n",
      " 3   Catalysts_Smiles  11069 non-null  object \n",
      " 4   Steps             11069 non-null  int64  \n",
      " 5   Stages            11069 non-null  int64  \n",
      " 6   Yield             11069 non-null  float64\n",
      " 7   Notes             11054 non-null  object \n",
      " 8   Title             11069 non-null  object \n",
      " 9   Type              10510 non-null  object \n",
      " 10  ori_row_number    11069 non-null  int64  \n",
      " 11  split             0 non-null      float64\n",
      "dtypes: float64(2), int64(3), object(7)\n",
      "memory usage: 1.0+ MB\n",
      "None\n"
     ]
    }
   ],
   "source": [
    "import pandas as pd\n",
    "csv_file = '../data/scifinder_clean.csv'\n",
    "reactions = pd.read_csv(csv_file, encoding='gb18030')\n",
    "print(reactions.info())"
   ]
  },
  {
   "cell_type": "code",
   "execution_count": 246,
   "id": "f4c5e8d8",
   "metadata": {
    "scrolled": true
   },
   "outputs": [
    {
     "name": "stdout",
     "output_type": "stream",
     "text": [
      "Counter({'train': 7781, 'test': 1648, 'valid': 1640})\n",
      "<class 'pandas.core.frame.DataFrame'>\n",
      "RangeIndex: 11069 entries, 0 to 11068\n",
      "Data columns (total 12 columns):\n",
      " #   Column            Non-Null Count  Dtype  \n",
      "---  ------            --------------  -----  \n",
      " 0   Reactants_Smiles  11069 non-null  object \n",
      " 1   Products_Smiles   11069 non-null  object \n",
      " 2   Reagents_Smiles   11069 non-null  object \n",
      " 3   Catalysts_Smiles  11069 non-null  object \n",
      " 4   Steps             11069 non-null  int64  \n",
      " 5   Stages            11069 non-null  int64  \n",
      " 6   Yield             11069 non-null  float64\n",
      " 7   Notes             11054 non-null  object \n",
      " 8   Title             11069 non-null  object \n",
      " 9   Type              10510 non-null  object \n",
      " 10  ori_row_number    11069 non-null  int64  \n",
      " 11  split             11069 non-null  object \n",
      "dtypes: float64(1), int64(3), object(8)\n",
      "memory usage: 1.0+ MB\n"
     ]
    }
   ],
   "source": [
    "from collections import Counter\n",
    "splits = []\n",
    "splits_dict = {'train': [], 'valid': [], 'test': []}\n",
    "for i, row in enumerate(reactions.itertuples()):\n",
    "    try:\n",
    "        splits.append(all_splits[row[11]])\n",
    "        splits_dict[all_splits[row[11]]].append(i)\n",
    "    except:\n",
    "        ss = ['train', 'train', 'train', 'train', 'train', 'train', 'valid', 'test']\n",
    "        s = random.choice(ss)\n",
    "        splits.append(s)\n",
    "        splits_dict[s].append(i)\n",
    "print(Counter(splits))\n",
    "reactions['split'] = splits\n",
    "reactions.info()"
   ]
  },
  {
   "cell_type": "code",
   "execution_count": 247,
   "id": "8d603af3",
   "metadata": {},
   "outputs": [],
   "source": [
    "reactions.to_csv('../data/scifinder_clean.csv')\n",
    "np.save('../data/split_ids.npy', splits_dict)"
   ]
  },
  {
   "cell_type": "code",
   "execution_count": 236,
   "id": "173c28c7",
   "metadata": {},
   "outputs": [
    {
     "data": {
      "text/plain": [
       "1632"
      ]
     },
     "execution_count": 236,
     "metadata": {},
     "output_type": "execute_result"
    }
   ],
   "source": [
    "len(splits_dict['train'])\n",
    "len(splits_dict['valid'])\n",
    "len(splits_dict['test'])"
   ]
  },
  {
   "cell_type": "code",
   "execution_count": 250,
   "id": "080bdc6f",
   "metadata": {},
   "outputs": [
    {
     "data": {
      "text/plain": [
       "7781"
      ]
     },
     "execution_count": 250,
     "metadata": {},
     "output_type": "execute_result"
    }
   ],
   "source": [
    "xx = np.load('../data/split_ids.npy', allow_pickle=True).item()\n",
    "len(xx['train'])"
   ]
  },
  {
   "cell_type": "code",
   "execution_count": 273,
   "id": "37788014",
   "metadata": {},
   "outputs": [
    {
     "name": "stdout",
     "output_type": "stream",
     "text": [
      "tensor(1.2150, dtype=torch.float64)\n",
      "tensor(1.2150, dtype=torch.float64)\n"
     ]
    }
   ],
   "source": [
    "y_ = torch.tensor((np.random.randn(6,3)))\n",
    "y = torch.tensor([1,2,1,1,2,0])\n",
    "\n",
    "loss_func = nn.CrossEntropyLoss()\n",
    "print(loss_func(y_, y))\n",
    "\n",
    "loss_dunc = nn.NLLLoss()\n",
    "ls = nn.Softmax(dim=-1)\n",
    "y_ = torch.log(ls(y_))\n",
    "print(loss_func(y_, y))"
   ]
  },
  {
   "cell_type": "code",
   "execution_count": 284,
   "id": "f077b6a1",
   "metadata": {},
   "outputs": [
    {
     "name": "stdout",
     "output_type": "stream",
     "text": [
      "tensor(0.3333)\n",
      "tensor([0.0000, 0.3333, 0.5000])\n",
      "tensor([0.0000, 0.5000, 0.3333])\n",
      "tensor(0.4352)\n"
     ]
    }
   ],
   "source": [
    "from torchmetrics import Recall, Accuracy, Precision, AUROC\n",
    "score_func = Accuracy()\n",
    "s = score_func(y_.argmax(1), y)\n",
    "print(s)\n",
    "score_func = Recall(average='none', num_classes=3)\n",
    "s = score_func(y_.argmax(1), y)\n",
    "print(s)\n",
    "\n",
    "score_func = Precision(average='none', num_classes=3)\n",
    "s = score_func(y_.argmax(1), y)\n",
    "print(s)\n",
    "\n",
    "score_func = AUROC(average='macro', num_classes=3)\n",
    "s = score_func(y_, y)\n",
    "print(s)"
   ]
  },
  {
   "cell_type": "code",
   "execution_count": 2,
   "id": "368a62d3",
   "metadata": {
    "scrolled": true
   },
   "outputs": [
    {
     "data": {
      "text/html": [
       "wandb version 0.15.2 is available!  To upgrade, please run:\n",
       " $ pip install wandb --upgrade"
      ],
      "text/plain": [
       "<IPython.core.display.HTML object>"
      ]
     },
     "metadata": {},
     "output_type": "display_data"
    },
    {
     "data": {
      "text/html": [
       "Tracking run with wandb version 0.13.2"
      ],
      "text/plain": [
       "<IPython.core.display.HTML object>"
      ]
     },
     "metadata": {},
     "output_type": "display_data"
    },
    {
     "data": {
      "text/html": [
       "Run data is saved locally in <code>E:\\projects\\photocatalysis_whu\\pred_yield\\wandb\\run-20230516_185535-2zsk3hdz</code>"
      ],
      "text/plain": [
       "<IPython.core.display.HTML object>"
      ]
     },
     "metadata": {},
     "output_type": "display_data"
    },
    {
     "data": {
      "text/html": [
       "Syncing run <strong><a href=\"https://wandb.ai/aiquantum/my_awesome_project/runs/2zsk3hdz\" target=\"_blank\">legendary-sun-2</a></strong> to <a href=\"https://wandb.ai/aiquantum/my_awesome_project\" target=\"_blank\">Weights & Biases</a> (<a href=\"https://wandb.me/run\" target=\"_blank\">docs</a>)<br/>"
      ],
      "text/plain": [
       "<IPython.core.display.HTML object>"
      ]
     },
     "metadata": {},
     "output_type": "display_data"
    },
    {
     "data": {
      "text/html": [
       "Waiting for W&B process to finish... <strong style=\"color:green\">(success).</strong>"
      ],
      "text/plain": [
       "<IPython.core.display.HTML object>"
      ]
     },
     "metadata": {},
     "output_type": "display_data"
    },
    {
     "data": {
      "application/vnd.jupyter.widget-view+json": {
       "model_id": "",
       "version_major": 2,
       "version_minor": 0
      },
      "text/plain": [
       "VBox(children=(Label(value='0.000 MB of 0.000 MB uploaded (0.000 MB deduped)\\r'), FloatProgress(value=1.0, max…"
      ]
     },
     "metadata": {},
     "output_type": "display_data"
    },
    {
     "data": {
      "text/html": [
       "<style>\n",
       "    table.wandb td:nth-child(1) { padding: 0 10px; text-align: left ; width: auto;} td:nth-child(2) {text-align: left ; width: 100%}\n",
       "    .wandb-row { display: flex; flex-direction: row; flex-wrap: wrap; justify-content: flex-start; width: 100% }\n",
       "    .wandb-col { display: flex; flex-direction: column; flex-basis: 100%; flex: 1; padding: 10px; }\n",
       "    </style>\n",
       "<div class=\"wandb-row\"><div class=\"wandb-col\"><h3>Run history:</h3><br/><table class=\"wandb\"><tr><td>acc</td><td>▂▁▅▅▇▆▇█</td></tr><tr><td>loss</td><td>█▇▄▂▄▃▁▂</td></tr></table><br/></div><div class=\"wandb-col\"><h3>Run summary:</h3><br/><table class=\"wandb\"><tr><td>acc</td><td>0.85913</td></tr><tr><td>loss</td><td>0.20669</td></tr></table><br/></div></div>"
      ],
      "text/plain": [
       "<IPython.core.display.HTML object>"
      ]
     },
     "metadata": {},
     "output_type": "display_data"
    },
    {
     "data": {
      "text/html": [
       "Synced <strong style=\"color:#cdcd00\">legendary-sun-2</strong>: <a href=\"https://wandb.ai/aiquantum/my_awesome_project/runs/2zsk3hdz\" target=\"_blank\">https://wandb.ai/aiquantum/my_awesome_project/runs/2zsk3hdz</a><br/>Synced 5 W&B file(s), 0 media file(s), 0 artifact file(s) and 0 other file(s)"
      ],
      "text/plain": [
       "<IPython.core.display.HTML object>"
      ]
     },
     "metadata": {},
     "output_type": "display_data"
    },
    {
     "data": {
      "text/html": [
       "Find logs at: <code>.\\wandb\\run-20230516_185535-2zsk3hdz\\logs</code>"
      ],
      "text/plain": [
       "<IPython.core.display.HTML object>"
      ]
     },
     "metadata": {},
     "output_type": "display_data"
    }
   ],
   "source": [
    "import wandb\n",
    "import random\n",
    "wandb.init(\n",
    "    project='my_awesome_project',\n",
    "    config={\n",
    "            'learning_rate': 0.02, \n",
    "            'architecture': 'CNN',\n",
    "            'dataset': 'CIFAR-100',\n",
    "            'epochs': 10\n",
    "           }\n",
    ")\n",
    "epochs = 10\n",
    "offset = random.random()/5\n",
    "for epoch in range(2, epochs):\n",
    "    acc = 1 - 2 ** -epoch - random.random()/epoch - offset\n",
    "    loss = 2 ** -epoch + random.random()/epoch + offset\n",
    "    \n",
    "    wandb.log({'acc': acc, 'loss': loss})\n",
    "wandb.finish()\n"
   ]
  },
  {
   "cell_type": "code",
   "execution_count": 5,
   "id": "aa6e3846",
   "metadata": {},
   "outputs": [
    {
     "name": "stdout",
     "output_type": "stream",
     "text": [
      "Help on function init in module wandb.sdk.wandb_init:\n",
      "\n",
      "init(job_type: Union[str, NoneType] = None, dir=None, config: Union[Dict, str, NoneType] = None, project: Union[str, NoneType] = None, entity: Union[str, NoneType] = None, reinit: bool = None, tags: Union[Sequence, NoneType] = None, group: Union[str, NoneType] = None, name: Union[str, NoneType] = None, notes: Union[str, NoneType] = None, magic: Union[dict, str, bool] = None, config_exclude_keys=None, config_include_keys=None, anonymous: Union[str, NoneType] = None, mode: Union[str, NoneType] = None, allow_val_change: Union[bool, NoneType] = None, resume: Union[bool, str, NoneType] = None, force: Union[bool, NoneType] = None, tensorboard=None, sync_tensorboard=None, monitor_gym=None, save_code=None, id=None, settings: Union[wandb.sdk.wandb_settings.Settings, Dict[str, Any], NoneType] = None) -> Union[wandb.sdk.wandb_run.Run, wandb.sdk.lib.disabled.RunDisabled, NoneType]\n",
      "    Starts a new run to track and log to W&B.\n",
      "    \n",
      "    In an ML training pipeline, you could add `wandb.init()`\n",
      "    to the beginning of your training script as well as your evaluation\n",
      "    script, and each piece would be tracked as a run in W&B.\n",
      "    \n",
      "    `wandb.init()` spawns a new background process to log data to a run, and it\n",
      "    also syncs data to wandb.ai by default so you can see live visualizations.\n",
      "    \n",
      "    Call `wandb.init()` to start a run before logging data with `wandb.log()`:\n",
      "    <!--yeadoc-test:init-method-log-->\n",
      "    ```python\n",
      "    import wandb\n",
      "    \n",
      "    wandb.init()\n",
      "    # ... calculate metrics, generate media\n",
      "    wandb.log({\"accuracy\": 0.9})\n",
      "    ```\n",
      "    \n",
      "    `wandb.init()` returns a run object, and you can also access the run object\n",
      "    via `wandb.run`:\n",
      "    <!--yeadoc-test:init-and-assert-global-->\n",
      "    ```python\n",
      "    import wandb\n",
      "    \n",
      "    run = wandb.init()\n",
      "    \n",
      "    assert run is wandb.run\n",
      "    ```\n",
      "    \n",
      "    At the end of your script, we will automatically call `wandb.finish` to\n",
      "    finalize and cleanup the run. However, if you call `wandb.init` from a\n",
      "    child process, you must explicitly call `wandb.finish` at the end of the\n",
      "    child process.\n",
      "    \n",
      "    For more on using `wandb.init()`, including detailed examples, check out our\n",
      "    [guide and FAQs](https://docs.wandb.ai/guides/track/launch).\n",
      "    \n",
      "    Arguments:\n",
      "        project: (str, optional) The name of the project where you're sending\n",
      "            the new run. If the project is not specified, the run is put in an\n",
      "            \"Uncategorized\" project.\n",
      "        entity: (str, optional) An entity is a username or team name where\n",
      "            you're sending runs. This entity must exist before you can send runs\n",
      "            there, so make sure to create your account or team in the UI before\n",
      "            starting to log runs.\n",
      "            If you don't specify an entity, the run will be sent to your default\n",
      "            entity, which is usually your username. Change your default entity\n",
      "            in [your settings](https://wandb.ai/settings) under \"default location\n",
      "            to create new projects\".\n",
      "        config: (dict, argparse, absl.flags, str, optional)\n",
      "            This sets `wandb.config`, a dictionary-like object for saving inputs\n",
      "            to your job, like hyperparameters for a model or settings for a data\n",
      "            preprocessing job. The config will show up in a table in the UI that\n",
      "            you can use to group, filter, and sort runs. Keys should not contain\n",
      "            `.` in their names, and values should be under 10 MB.\n",
      "            If dict, argparse or absl.flags: will load the key value pairs into\n",
      "                the `wandb.config` object.\n",
      "            If str: will look for a yaml file by that name, and load config from\n",
      "                that file into the `wandb.config` object.\n",
      "        save_code: (bool, optional) Turn this on to save the main script or\n",
      "            notebook to W&B. This is valuable for improving experiment\n",
      "            reproducibility and to diff code across experiments in the UI. By\n",
      "            default this is off, but you can flip the default behavior to on\n",
      "            in [your settings page](https://wandb.ai/settings).\n",
      "        group: (str, optional) Specify a group to organize individual runs into\n",
      "            a larger experiment. For example, you might be doing cross\n",
      "            validation, or you might have multiple jobs that train and evaluate\n",
      "            a model against different test sets. Group gives you a way to\n",
      "            organize runs together into a larger whole, and you can toggle this\n",
      "            on and off in the UI. For more details, see our\n",
      "            [guide to grouping runs](https://docs.wandb.com/library/grouping).\n",
      "        job_type: (str, optional) Specify the type of run, which is useful when\n",
      "            you're grouping runs together into larger experiments using group.\n",
      "            For example, you might have multiple jobs in a group, with job types\n",
      "            like train and eval. Setting this makes it easy to filter and group\n",
      "            similar runs together in the UI so you can compare apples to apples.\n",
      "        tags: (list, optional) A list of strings, which will populate the list\n",
      "            of tags on this run in the UI. Tags are useful for organizing runs\n",
      "            together, or applying temporary labels like \"baseline\" or\n",
      "            \"production\". It's easy to add and remove tags in the UI, or filter\n",
      "            down to just runs with a specific tag.\n",
      "        name: (str, optional) A short display name for this run, which is how\n",
      "            you'll identify this run in the UI. By default, we generate a random\n",
      "            two-word name that lets you easily cross-reference runs from the\n",
      "            table to charts. Keeping these run names short makes the chart\n",
      "            legends and tables easier to read. If you're looking for a place to\n",
      "            save your hyperparameters, we recommend saving those in config.\n",
      "        notes: (str, optional) A longer description of the run, like a `-m` commit\n",
      "            message in git. This helps you remember what you were doing when you\n",
      "            ran this run.\n",
      "        dir: (str, optional) An absolute path to a directory where metadata will\n",
      "            be stored. When you call `download()` on an artifact, this is the\n",
      "            directory where downloaded files will be saved. By default, this is\n",
      "            the `./wandb` directory.\n",
      "        resume: (bool, str, optional) Sets the resuming behavior. Options:\n",
      "            `\"allow\"`, `\"must\"`, `\"never\"`, `\"auto\"` or `None`. Defaults to `None`.\n",
      "            Cases:\n",
      "            - `None` (default): If the new run has the same ID as a previous run,\n",
      "                this run overwrites that data.\n",
      "            - `\"auto\"` (or `True`): if the previous run on this machine crashed,\n",
      "                automatically resume it. Otherwise, start a new run.\n",
      "            - `\"allow\"`: if id is set with `init(id=\"UNIQUE_ID\")` or\n",
      "                `WANDB_RUN_ID=\"UNIQUE_ID\"` and it is identical to a previous run,\n",
      "                wandb will automatically resume the run with that id. Otherwise,\n",
      "                wandb will start a new run.\n",
      "            - `\"never\"`: if id is set with `init(id=\"UNIQUE_ID\")` or\n",
      "                `WANDB_RUN_ID=\"UNIQUE_ID\"` and it is identical to a previous run,\n",
      "                wandb will crash.\n",
      "            - `\"must\"`: if id is set with `init(id=\"UNIQUE_ID\")` or\n",
      "                `WANDB_RUN_ID=\"UNIQUE_ID\"` and it is identical to a previous run,\n",
      "                wandb will automatically resume the run with the id. Otherwise\n",
      "                wandb will crash.\n",
      "            See [our guide to resuming runs](https://docs.wandb.com/library/advanced/resuming)\n",
      "            for more.\n",
      "        reinit: (bool, optional) Allow multiple `wandb.init()` calls in the same\n",
      "            process. (default: `False`)\n",
      "        magic: (bool, dict, or str, optional) The bool controls whether we try to\n",
      "            auto-instrument your script, capturing basic details of your run\n",
      "            without you having to add more wandb code. (default: `False`)\n",
      "            You can also pass a dict, json string, or yaml filename.\n",
      "        config_exclude_keys: (list, optional) string keys to exclude from\n",
      "            `wandb.config`.\n",
      "        config_include_keys: (list, optional) string keys to include in\n",
      "            `wandb.config`.\n",
      "        anonymous: (str, optional) Controls anonymous data logging. Options:\n",
      "            - `\"never\"` (default): requires you to link your W&B account before\n",
      "                tracking the run so you don't accidentally create an anonymous\n",
      "                run.\n",
      "            - `\"allow\"`: lets a logged-in user track runs with their account, but\n",
      "                lets someone who is running the script without a W&B account see\n",
      "                the charts in the UI.\n",
      "            - `\"must\"`: sends the run to an anonymous account instead of to a\n",
      "                signed-up user account.\n",
      "        mode: (str, optional) Can be `\"online\"`, `\"offline\"` or `\"disabled\"`. Defaults to\n",
      "            online.\n",
      "        allow_val_change: (bool, optional) Whether to allow config values to\n",
      "            change after setting the keys once. By default, we throw an exception\n",
      "            if a config value is overwritten. If you want to track something\n",
      "            like a varying learning rate at multiple times during training, use\n",
      "            `wandb.log()` instead. (default: `False` in scripts, `True` in Jupyter)\n",
      "        force: (bool, optional) If `True`, this crashes the script if a user isn't\n",
      "            logged in to W&B. If `False`, this will let the script run in offline\n",
      "            mode if a user isn't logged in to W&B. (default: `False`)\n",
      "        sync_tensorboard: (bool, optional) Synchronize wandb logs from tensorboard or\n",
      "            tensorboardX and save the relevant events file. (default: `False`)\n",
      "        monitor_gym: (bool, optional) Automatically log videos of environment when\n",
      "            using OpenAI Gym. (default: `False`)\n",
      "            See [our guide to this integration](https://docs.wandb.com/library/integrations/openai-gym).\n",
      "        id: (str, optional) A unique ID for this run, used for resuming. It must\n",
      "            be unique in the project, and if you delete a run you can't reuse\n",
      "            the ID. Use the name field for a short descriptive name, or config\n",
      "            for saving hyperparameters to compare across runs. The ID cannot\n",
      "            contain special characters.\n",
      "            See [our guide to resuming runs](https://docs.wandb.com/library/resuming).\n",
      "    \n",
      "    Examples:\n",
      "    ### Set where the run is logged\n",
      "    \n",
      "    You can change where the run is logged, just like changing\n",
      "    the organization, repository, and branch in git:\n",
      "    ```python\n",
      "    import wandb\n",
      "    \n",
      "    user = \"geoff\"\n",
      "    project = \"capsules\"\n",
      "    display_name = \"experiment-2021-10-31\"\n",
      "    \n",
      "    wandb.init(entity=user, project=project, name=display_name)\n",
      "    ```\n",
      "    \n",
      "    ### Add metadata about the run to the config\n",
      "    \n",
      "    Pass a dictionary-style object as the `config` keyword argument to add\n",
      "    metadata, like hyperparameters, to your run.\n",
      "    <!--yeadoc-test:init-set-config-->\n",
      "    ```python\n",
      "    import wandb\n",
      "    \n",
      "    config = {\"lr\": 3e-4, \"batch_size\": 32}\n",
      "    config.update({\"architecture\": \"resnet\", \"depth\": 34})\n",
      "    wandb.init(config=config)\n",
      "    ```\n",
      "    \n",
      "    Raises:\n",
      "        Exception: if problem.\n",
      "    \n",
      "    Returns:\n",
      "        A `Run` object.\n",
      "\n"
     ]
    }
   ],
   "source": [
    "help(wandb.init)"
   ]
  },
  {
   "cell_type": "code",
   "execution_count": 41,
   "id": "f72001d3",
   "metadata": {},
   "outputs": [
    {
     "name": "stdout",
     "output_type": "stream",
     "text": [
      "1\n",
      "4\n"
     ]
    }
   ],
   "source": [
    "import rdkit\n",
    "from rdkit import Chem\n",
    "from rdkit.Chem import Draw\n",
    "s = 'CC(C)=O'\n",
    "mol = Chem.MolFromSmiles(s)\n",
    "mols = Chem.rdchem.ResonanceMolSupplier(mol, maxStructs=2)\n",
    "print(len(mols))\n",
    "for m in mols:\n",
    "    print(mol.GetNumAtoms())"
   ]
  },
  {
   "cell_type": "code",
   "execution_count": 58,
   "id": "c28dee5d",
   "metadata": {},
   "outputs": [
    {
     "data": {
      "image/png": "[encoded data removed]",
      "text/plain": [
       "<PIL.PngImagePlugin.PngImageFile image mode=RGB size=300x300>"
      ]
     },
     "execution_count": 58,
     "metadata": {},
     "output_type": "execute_result"
    }
   ],
   "source": [
    "from rdkit.Chem.MolStandardize import rdMolStandardize\n",
    "params = rdMolStandardize.CleanupParameters()\n",
    "params.maxTautomers=100\n",
    "enumerator = rdMolStandardize.TautomerEnumerator(params)\n",
    "m = Chem.MolFromSmiles(\"OCC(N=C(O)c1cccc(O)c1O)=C(O)O\")\n",
    "Draw.MolToImage(m)\n",
    "# cm = enumerator.Canonicalize(m)\n",
    "# Draw.MolToImage(cm)"
   ]
  },
  {
   "cell_type": "code",
   "execution_count": 48,
   "id": "83500953",
   "metadata": {},
   "outputs": [
    {
     "name": "stdout",
     "output_type": "stream",
     "text": [
      "Help on class CleanupParameters in module rdkit.Chem.MolStandardize.rdMolStandardize:\n",
      "\n",
      "class CleanupParameters(Boost.Python.instance)\n",
      " |  Parameters controlling molecular standardization\n",
      " |  \n",
      " |  Method resolution order:\n",
      " |      CleanupParameters\n",
      " |      Boost.Python.instance\n",
      " |      builtins.object\n",
      " |  \n",
      " |  Static methods defined here:\n",
      " |  \n",
      " |  __init__(...)\n",
      " |      __init__( (object)arg1) -> None :\n",
      " |      \n",
      " |          C++ signature :\n",
      " |              void __init__(struct _object * __ptr64)\n",
      " |  \n",
      " |  __reduce__ = <unnamed Boost.Python function>(...)\n",
      " |  \n",
      " |  ----------------------------------------------------------------------\n",
      " |  Data descriptors defined here:\n",
      " |  \n",
      " |  acidbaseFile\n",
      " |      file containing the acid and base definitions\n",
      " |  \n",
      " |  doCanonical\n",
      " |      apply atom-order dependent normalizations (like uncharging) in a canonical order\n",
      " |  \n",
      " |  fragmentFile\n",
      " |      file containing the acid and base definitions\n",
      " |  \n",
      " |  largestFragmentChooserCountHeavyAtomsOnly\n",
      " |      whether LargestFragmentChooser should only count heavy atoms (defaults to False)\n",
      " |  \n",
      " |  largestFragmentChooserUseAtomCount\n",
      " |      Whether LargestFragmentChooser should use atom count as main criterion before MW (defaults to True)\n",
      " |  \n",
      " |  maxRestarts\n",
      " |      maximum number of restarts\n",
      " |  \n",
      " |  maxTautomers\n",
      " |      maximum number of tautomers to generate (defaults to 1000)\n",
      " |  \n",
      " |  maxTransforms\n",
      " |      maximum number of transforms to apply during tautomer enumeration (defaults to 1000)\n",
      " |  \n",
      " |  normalizationsFile\n",
      " |      file containing the normalization transformations\n",
      " |  \n",
      " |  preferOrganic\n",
      " |      prefer organic fragments to inorganic ones when deciding what to keep\n",
      " |  \n",
      " |  tautomerReassignStereo\n",
      " |      call AssignStereochemistry on all generated tautomers (defaults to True)\n",
      " |  \n",
      " |  tautomerRemoveBondStereo\n",
      " |      remove stereochemistry from double bonds involved in tautomerism (defaults to True)\n",
      " |  \n",
      " |  tautomerRemoveIsotopicHs\n",
      " |      remove isotopic Hs from centers involved in tautomerism (defaults to True)\n",
      " |  \n",
      " |  tautomerRemoveSp3Stereo\n",
      " |      remove stereochemistry from sp3 centers involved in tautomerism (defaults to True)\n",
      " |  \n",
      " |  tautomerTransformsFile\n",
      " |      file containing the tautomer transformations\n",
      " |  \n",
      " |  ----------------------------------------------------------------------\n",
      " |  Data and other attributes defined here:\n",
      " |  \n",
      " |  __instance_size__ = 304\n",
      " |  \n",
      " |  ----------------------------------------------------------------------\n",
      " |  Static methods inherited from Boost.Python.instance:\n",
      " |  \n",
      " |  __new__(*args, **kwargs) from Boost.Python.class\n",
      " |      Create and return a new object.  See help(type) for accurate signature.\n",
      " |  \n",
      " |  ----------------------------------------------------------------------\n",
      " |  Data descriptors inherited from Boost.Python.instance:\n",
      " |  \n",
      " |  __dict__\n",
      " |  \n",
      " |  __weakref__\n",
      "\n"
     ]
    }
   ],
   "source": [
    "help(rdkit.Chem.MolStandardize.rdMolStandardize.CleanupParameters)"
   ]
  },
  {
   "cell_type": "code",
   "execution_count": 37,
   "id": "1c789c2a",
   "metadata": {},
   "outputs": [
    {
     "name": "stdout",
     "output_type": "stream",
     "text": [
      "torch.Size([8, 24, 16])\n",
      "torch.Size([16, 32])\n"
     ]
    },
    {
     "data": {
      "text/plain": [
       "torch.Size([8, 24, 32])"
      ]
     },
     "execution_count": 37,
     "metadata": {},
     "output_type": "execute_result"
    }
   ],
   "source": [
    "import numpy as np\n",
    "import torch\n",
    "from torch import nn\n",
    "weights = nn.Parameter(torch.tensor(np.random.randn(16, 32)))\n",
    "bias = nn.Parameter(torch.tensor(np.random.randn(32)))\n",
    "x = torch.tensor(np.random.randn(8, 24, 16))\n",
    "print(x.shape)\n",
    "print(weights.shape)\n",
    "y = torch.einsum('ijk,km->ijm', x, weights) + bias\n",
    "y.shape"
   ]
  },
  {
   "cell_type": "code",
   "execution_count": 33,
   "id": "845df669",
   "metadata": {},
   "outputs": [
    {
     "name": "stdout",
     "output_type": "stream",
     "text": [
      "Help on function einsum in module torch.functional:\n",
      "\n",
      "einsum(*args)\n",
      "    einsum(equation, *operands) -> Tensor\n",
      "    \n",
      "    Sums the product of the elements of the input :attr:`operands` along dimensions specified using a notation\n",
      "    based on the Einstein summation convention.\n",
      "    \n",
      "    Einsum allows computing many common multi-dimensional linear algebraic array operations by representing them\n",
      "    in a short-hand format based on the Einstein summation convention, given by :attr:`equation`. The details of\n",
      "    this format are described below, but the general idea is to label every dimension of the input :attr:`operands`\n",
      "    with some subscript and define which subscripts are part of the output. The output is then computed by summing\n",
      "    the product of the elements of the :attr:`operands` along the dimensions whose subscripts are not part of the\n",
      "    output. For example, matrix multiplication can be computed using einsum as `torch.einsum(\"ij,jk->ik\", A, B)`.\n",
      "    Here, j is the summation subscript and i and k the output subscripts (see section below for more details on why).\n",
      "    \n",
      "    Equation:\n",
      "    \n",
      "        The :attr:`equation` string specifies the subscripts (letters in `[a-zA-Z]`) for each dimension of\n",
      "        the input :attr:`operands` in the same order as the dimensions, separating subcripts for each operand by a\n",
      "        comma (','), e.g. `'ij,jk'` specify subscripts for two 2D operands. The dimensions labeled with the same subscript\n",
      "        must be broadcastable, that is, their size must either match or be `1`. The exception is if a subscript is\n",
      "        repeated for the same input operand, in which case the dimensions labeled with this subscript for this operand\n",
      "        must match in size and the operand will be replaced by its diagonal along these dimensions. The subscripts that\n",
      "        appear exactly once in the :attr:`equation` will be part of the output, sorted in increasing alphabetical order.\n",
      "        The output is computed by multiplying the input :attr:`operands` element-wise, with their dimensions aligned based\n",
      "        on the subscripts, and then summing out the dimensions whose subscripts are not part of the output.\n",
      "    \n",
      "        Optionally, the output subscripts can be explicitly defined by adding an arrow ('->') at the end of the equation\n",
      "        followed by the subscripts for the output. For instance, the following equation computes the transpose of a\n",
      "        matrix multiplication: 'ij,jk->ki'. The output subscripts must appear at least once for some input operand and\n",
      "        at most once for the output.\n",
      "    \n",
      "        Ellipsis ('...') can be used in place of subscripts to broadcast the dimensions covered by the ellipsis.\n",
      "        Each input operand may contain at most one ellipsis which will cover the dimensions not covered by subscripts,\n",
      "        e.g. for an input operand with 5 dimensions, the ellipsis in the equation `'ab...c'` cover the third and fourth\n",
      "        dimensions. The ellipsis does not need to cover the same number of dimensions across the :attr:`operands` but the\n",
      "        'shape' of the ellipsis (the size of the dimensions covered by them) must broadcast together. If the output is not\n",
      "        explicitly defined with the arrow ('->') notation, the ellipsis will come first in the output (left-most dimensions),\n",
      "        before the subscript labels that appear exactly once for the input operands. e.g. the following equation implements\n",
      "        batch matrix multiplication `'...ij,...jk'`.\n",
      "    \n",
      "        A few final notes: the equation may contain whitespaces between the different elements (subscripts, ellipsis,\n",
      "        arrow and comma) but something like `'. . .'` is not valid. An empty string `''` is valid for scalar operands.\n",
      "    \n",
      "    .. note::\n",
      "    \n",
      "        ``torch.einsum`` handles ellipsis ('...') differently from NumPy in that it allows dimensions\n",
      "        covered by the ellipsis to be summed over, that is, ellipsis are not required to be part of the output.\n",
      "    \n",
      "    .. note::\n",
      "    \n",
      "        This function does not optimize the given expression, so a different formula for the same computation may\n",
      "        run faster or consume less memory. Projects like opt_einsum (https://optimized-einsum.readthedocs.io/en/stable/)\n",
      "        can optimize the formula for you.\n",
      "    \n",
      "    .. note::\n",
      "    \n",
      "        As of PyTorch 1.10 :func:`torch.einsum` also supports the sublist format (see examples below). In this format,\n",
      "        subscripts for each operand are specified by sublists, list of integers in the range [0, 52). These sublists\n",
      "        follow their operands, and an extra sublist can appear at the end of the input to specify the output's\n",
      "        subscripts., e.g. `torch.einsum(op1, sublist1, op2, sublist2, ..., [subslist_out])`. Python's `Ellipsis` object\n",
      "        may be provided in a sublist to enable broadcasting as described in the Equation section above.\n",
      "    \n",
      "    Args:\n",
      "        equation (string): The subscripts for the Einstein summation.\n",
      "        operands (List[Tensor]): The tensors to compute the Einstein summation of.\n",
      "    \n",
      "    Examples::\n",
      "    \n",
      "        # trace\n",
      "        >>> torch.einsum('ii', torch.randn(4, 4))\n",
      "        tensor(-1.2104)\n",
      "    \n",
      "        # diagonal\n",
      "        >>> torch.einsum('ii->i', torch.randn(4, 4))\n",
      "        tensor([-0.1034,  0.7952, -0.2433,  0.4545])\n",
      "    \n",
      "        # outer product\n",
      "        >>> x = torch.randn(5)\n",
      "        >>> y = torch.randn(4)\n",
      "        >>> torch.einsum('i,j->ij', x, y)\n",
      "        tensor([[ 0.1156, -0.2897, -0.3918,  0.4963],\n",
      "                [-0.3744,  0.9381,  1.2685, -1.6070],\n",
      "                [ 0.7208, -1.8058, -2.4419,  3.0936],\n",
      "                [ 0.1713, -0.4291, -0.5802,  0.7350],\n",
      "                [ 0.5704, -1.4290, -1.9323,  2.4480]])\n",
      "    \n",
      "        # batch matrix multiplication\n",
      "        >>> As = torch.randn(3,2,5)\n",
      "        >>> Bs = torch.randn(3,5,4)\n",
      "        >>> torch.einsum('bij,bjk->bik', As, Bs)\n",
      "        tensor([[[-1.0564, -1.5904,  3.2023,  3.1271],\n",
      "                [-1.6706, -0.8097, -0.8025, -2.1183]],\n",
      "    \n",
      "                [[ 4.2239,  0.3107, -0.5756, -0.2354],\n",
      "                [-1.4558, -0.3460,  1.5087, -0.8530]],\n",
      "    \n",
      "                [[ 2.8153,  1.8787, -4.3839, -1.2112],\n",
      "                [ 0.3728, -2.1131,  0.0921,  0.8305]]])\n",
      "    \n",
      "        # with sublist format and ellipsis\n",
      "        >>> torch.einsum(As, [..., 0, 1], Bs, [..., 1, 2], [..., 0, 2])\n",
      "        tensor([[[-1.0564, -1.5904,  3.2023,  3.1271],\n",
      "                [-1.6706, -0.8097, -0.8025, -2.1183]],\n",
      "    \n",
      "                [[ 4.2239,  0.3107, -0.5756, -0.2354],\n",
      "                [-1.4558, -0.3460,  1.5087, -0.8530]],\n",
      "    \n",
      "                [[ 2.8153,  1.8787, -4.3839, -1.2112],\n",
      "                [ 0.3728, -2.1131,  0.0921,  0.8305]]])\n",
      "    \n",
      "        # batch permute\n",
      "        >>> A = torch.randn(2, 3, 4, 5)\n",
      "        >>> torch.einsum('...ij->...ji', A).shape\n",
      "        torch.Size([2, 3, 5, 4])\n",
      "    \n",
      "        # equivalent to torch.nn.functional.bilinear\n",
      "        >>> A = torch.randn(3,5,4)\n",
      "        >>> l = torch.randn(2,5)\n",
      "        >>> r = torch.randn(2,4)\n",
      "        >>> torch.einsum('bn,anm,bm->ba', l, A, r)\n",
      "        tensor([[-0.3430, -5.2405,  0.4494],\n",
      "                [ 0.3311,  5.5201, -3.0356]])\n",
      "\n"
     ]
    }
   ],
   "source": [
    "help(torch.einsum)"
   ]
  },
  {
   "cell_type": "code",
   "execution_count": 5,
   "id": "f9a41b05",
   "metadata": {},
   "outputs": [
    {
     "name": "stdout",
     "output_type": "stream",
     "text": [
      "Help on class ResonanceMolSupplier in module rdkit.Chem.rdchem:\n",
      "\n",
      "class ResonanceMolSupplier(Boost.Python.instance)\n",
      " |  A class which supplies resonance structures (as mols) from a mol.\n",
      " |  \n",
      " |  Usage examples:\n",
      " |  \n",
      " |    1) Lazy evaluation: the resonance structures are not constructed\n",
      " |       until we ask for them:\n",
      " |  \n",
      " |       >>> suppl = ResonanceMolSupplier(mol)\n",
      " |       >>> for resMol in suppl:\n",
      " |       ...    resMol.GetNumAtoms()\n",
      " |  \n",
      " |    2) Lazy evaluation 2:\n",
      " |  \n",
      " |       >>> suppl = ResonanceMolSupplier(mol)\n",
      " |       >>> resMol1 = next(suppl)\n",
      " |       >>> resMol2 = next(suppl)\n",
      " |       >>> suppl.reset()\n",
      " |       >>> resMol3 = next(suppl)\n",
      " |       # resMol3 and resMol1 are the same: \n",
      " |       >>> MolToSmiles(resMol3)==MolToSmiles(resMol1)\n",
      " |  \n",
      " |    3) Random Access:\n",
      " |  \n",
      " |       >>> suppl = ResonanceMolSupplier(mol)\n",
      " |       >>> resMol1 = suppl[0] \n",
      " |       >>> resMol2 = suppl[1] \n",
      " |  \n",
      " |       NOTE: this will generate an IndexError if the supplier doesn't have that many\n",
      " |       molecules.\n",
      " |  \n",
      " |    4) Random Access 2: looping over all resonance structures\n",
      " |       >>> suppl = ResonanceMolSupplier(mol)\n",
      " |       >>> nResMols = len(suppl)\n",
      " |       >>> for i in range(nResMols):\n",
      " |       ...   suppl[i].GetNumAtoms()\n",
      " |  \n",
      " |  Method resolution order:\n",
      " |      ResonanceMolSupplier\n",
      " |      Boost.Python.instance\n",
      " |      builtins.object\n",
      " |  \n",
      " |  Static methods defined here:\n",
      " |  \n",
      " |  Enumerate(...)\n",
      " |      Enumerate( (ResonanceMolSupplier)arg1) -> None :\n",
      " |          Ask ResonanceMolSupplier to enumerate resonance structures(automatically done as soon as any attempt to access them is made).\n",
      " |          \n",
      " |      \n",
      " |          C++ signature :\n",
      " |              void Enumerate(class RDKit::ResonanceMolSupplier {lvalue})\n",
      " |  \n",
      " |  GetAtomConjGrpIdx(...)\n",
      " |      GetAtomConjGrpIdx( (ResonanceMolSupplier)arg1, (int)arg2) -> int :\n",
      " |          Given an atom index, it returns the index of the conjugated groupthe atom belongs to, or -1 if it is not conjugated.\n",
      " |          \n",
      " |      \n",
      " |          C++ signature :\n",
      " |              unsigned int GetAtomConjGrpIdx(class RDKit::ResonanceMolSupplier {lvalue},unsigned int)\n",
      " |  \n",
      " |  GetBondConjGrpIdx(...)\n",
      " |      GetBondConjGrpIdx( (ResonanceMolSupplier)arg1, (int)arg2) -> int :\n",
      " |          Given a bond index, it returns the index of the conjugated groupthe bond belongs to, or -1 if it is not conjugated.\n",
      " |          \n",
      " |      \n",
      " |          C++ signature :\n",
      " |              unsigned int GetBondConjGrpIdx(class RDKit::ResonanceMolSupplier {lvalue},unsigned int)\n",
      " |  \n",
      " |  GetIsEnumerated(...)\n",
      " |      GetIsEnumerated( (ResonanceMolSupplier)arg1) -> bool :\n",
      " |          Returns true if resonance structure enumeration has already happened.\n",
      " |          \n",
      " |      \n",
      " |          C++ signature :\n",
      " |              bool GetIsEnumerated(class RDKit::ResonanceMolSupplier {lvalue})\n",
      " |  \n",
      " |  GetNumConjGrps(...)\n",
      " |      GetNumConjGrps( (ResonanceMolSupplier)arg1) -> int :\n",
      " |          Returns the number of individual conjugated groups in the molecule.\n",
      " |          \n",
      " |      \n",
      " |          C++ signature :\n",
      " |              unsigned int GetNumConjGrps(class RDKit::ResonanceMolSupplier {lvalue})\n",
      " |  \n",
      " |  GetProgressCallback(...)\n",
      " |      GetProgressCallback( (ResonanceMolSupplier)arg1) -> object :\n",
      " |          Get the ResonanceMolSupplierCallback subclass instance,\n",
      " |          or None if none was set.\n",
      " |          \n",
      " |      \n",
      " |          C++ signature :\n",
      " |              class boost::python::api::object GetProgressCallback(class RDKit::ResonanceMolSupplier)\n",
      " |  \n",
      " |  GetSubstructMatch(...)\n",
      " |      GetSubstructMatch( (ResonanceMolSupplier)self, (Mol)query [, (bool)useChirality=False [, (bool)useQueryQueryMatches=False]]) -> object :\n",
      " |          Returns the indices of the molecule's atoms that match a substructure query,\n",
      " |          taking into account all resonance structures in ResonanceMolSupplier.\n",
      " |          \n",
      " |            ARGUMENTS:\n",
      " |              - query: a Molecule\n",
      " |          \n",
      " |              - useChirality: enables the use of stereochemistry in the matching\n",
      " |          \n",
      " |              - useQueryQueryMatches: use query-query matching logic\n",
      " |          \n",
      " |            RETURNS: a tuple of integers\n",
      " |          \n",
      " |            NOTES:\n",
      " |               - only a single match is returned\n",
      " |               - the ordering of the indices corresponds to the atom ordering\n",
      " |                   in the query. For example, the first index is for the atom in\n",
      " |                   this molecule that matches the first atom in the query.\n",
      " |          \n",
      " |      \n",
      " |          C++ signature :\n",
      " |              struct _object * __ptr64 GetSubstructMatch(class RDKit::ResonanceMolSupplier {lvalue},class RDKit::ROMol [,bool=False [,bool=False]])\n",
      " |  \n",
      " |  GetSubstructMatches(...)\n",
      " |      GetSubstructMatches( (ResonanceMolSupplier)self, (Mol)query [, (bool)uniquify=False [, (bool)useChirality=False [, (bool)useQueryQueryMatches=False [, (int)maxMatches=1000 [, (int)numThreads=1]]]]]) -> object :\n",
      " |          Returns tuples of the indices of the molecule's atoms that match a substructure query,\n",
      " |          taking into account all resonance structures in ResonanceMolSupplier.\n",
      " |          \n",
      " |            ARGUMENTS:\n",
      " |              - query: a Molecule.\n",
      " |              - uniquify: (optional) determines whether or not the matches are uniquified.\n",
      " |                          Defaults to 1.\n",
      " |          \n",
      " |              - useChirality: enables the use of stereochemistry in the matching\n",
      " |          \n",
      " |              - useQueryQueryMatches: use query-query matching logic\n",
      " |          \n",
      " |              - maxMatches: The maximum number of matches that will be returned.\n",
      " |                            In high-symmetry cases with medium-sized molecules, it is\n",
      " |                            very easy to end up with a combinatorial explosion in the\n",
      " |                            number of possible matches. This argument prevents that from\n",
      " |                            having unintended consequences\n",
      " |          \n",
      " |              - numThreads: The number of threads to be used (defaults to 1; 0 selects the\n",
      " |                            number of concurrent threads supported by the hardware; negative\n",
      " |                            values are added to the number of concurrent threads supported\n",
      " |                            by the hardware).\n",
      " |          \n",
      " |            RETURNS: a tuple of tuples of integers\n",
      " |          \n",
      " |            NOTE:\n",
      " |               - the ordering of the indices corresponds to the atom ordering\n",
      " |                   in the query. For example, the first index is for the atom in\n",
      " |                   this molecule that matches the first atom in the query.\n",
      " |          \n",
      " |      \n",
      " |          C++ signature :\n",
      " |              struct _object * __ptr64 GetSubstructMatches(class RDKit::ResonanceMolSupplier {lvalue},class RDKit::ROMol [,bool=False [,bool=False [,bool=False [,unsigned int=1000 [,int=1]]]]])\n",
      " |  \n",
      " |  SetNumThreads(...)\n",
      " |      SetNumThreads( (ResonanceMolSupplier)arg1, (int)arg2) -> None :\n",
      " |          Sets the number of threads to be used to enumerate resonance\n",
      " |          structures (defaults to 1; 0 selects the number of concurrent\n",
      " |          threads supported by the hardware; negative values are added\n",
      " |          to the number of concurrent threads supported by the hardware).\n",
      " |          \n",
      " |      \n",
      " |          C++ signature :\n",
      " |              void SetNumThreads(class RDKit::ResonanceMolSupplier {lvalue},unsigned int)\n",
      " |  \n",
      " |  SetProgressCallback(...)\n",
      " |      SetProgressCallback( (ResonanceMolSupplier)arg1, (object)arg2) -> None :\n",
      " |          Pass an instance of a class derived from\n",
      " |          ResonanceMolSupplierCallback, which must implement the\n",
      " |          __call__() method.\n",
      " |          \n",
      " |      \n",
      " |          C++ signature :\n",
      " |              void SetProgressCallback(class RDKit::ResonanceMolSupplier {lvalue},struct _object * __ptr64)\n",
      " |  \n",
      " |  WasCanceled(...)\n",
      " |      WasCanceled( (ResonanceMolSupplier)arg1) -> bool :\n",
      " |          Returns True if the resonance structure generation was canceled.\n",
      " |          \n",
      " |      \n",
      " |          C++ signature :\n",
      " |              bool WasCanceled(class RDKit::ResonanceMolSupplier {lvalue})\n",
      " |  \n",
      " |  __getitem__(...)\n",
      " |      __getitem__( (ResonanceMolSupplier)arg1, (int)arg2) -> Mol :\n",
      " |      \n",
      " |          C++ signature :\n",
      " |              class RDKit::ROMol * __ptr64 __getitem__(class RDKit::ResonanceMolSupplier * __ptr64,int)\n",
      " |  \n",
      " |  __init__(...)\n",
      " |      __init__( (object)arg1, (Mol)mol [, (int)flags=0 [, (int)maxStructs=1000]]) -> None :\n",
      " |      \n",
      " |          C++ signature :\n",
      " |              void __init__(struct _object * __ptr64,class RDKit::ROMol {lvalue} [,unsigned int=0 [,unsigned int=1000]])\n",
      " |  \n",
      " |  __iter__(...)\n",
      " |      __iter__( (ResonanceMolSupplier)arg1) -> ResonanceMolSupplier :\n",
      " |      \n",
      " |          C++ signature :\n",
      " |              class RDKit::ResonanceMolSupplier * __ptr64 __iter__(class RDKit::ResonanceMolSupplier * __ptr64)\n",
      " |  \n",
      " |  __len__(...)\n",
      " |      __len__( (ResonanceMolSupplier)arg1) -> int :\n",
      " |      \n",
      " |          C++ signature :\n",
      " |              unsigned int __len__(class RDKit::ResonanceMolSupplier {lvalue})\n",
      " |  \n",
      " |  __next__(...)\n",
      " |      __next__( (ResonanceMolSupplier)arg1) -> Mol :\n",
      " |          Returns the next resonance structure in the supplier. Raises _StopIteration_ on end.\n",
      " |          \n",
      " |      \n",
      " |          C++ signature :\n",
      " |              class RDKit::ROMol * __ptr64 __next__(class RDKit::ResonanceMolSupplier * __ptr64)\n",
      " |  \n",
      " |  __reduce__ = <unnamed Boost.Python function>(...)\n",
      " |  \n",
      " |  atEnd(...)\n",
      " |      atEnd( (ResonanceMolSupplier)arg1) -> bool :\n",
      " |          Returns whether or not we have hit the end of the resonance structure supplier.\n",
      " |          \n",
      " |      \n",
      " |          C++ signature :\n",
      " |              bool atEnd(class RDKit::ResonanceMolSupplier {lvalue})\n",
      " |  \n",
      " |  reset(...)\n",
      " |      reset( (ResonanceMolSupplier)arg1) -> None :\n",
      " |          Resets our position in the resonance structure supplier to the beginning.\n",
      " |          \n",
      " |      \n",
      " |          C++ signature :\n",
      " |              void reset(class RDKit::ResonanceMolSupplier {lvalue})\n",
      " |  \n",
      " |  ----------------------------------------------------------------------\n",
      " |  Data and other attributes defined here:\n",
      " |  \n",
      " |  __instance_size__ = 160\n",
      " |  \n",
      " |  ----------------------------------------------------------------------\n",
      " |  Static methods inherited from Boost.Python.instance:\n",
      " |  \n",
      " |  __new__(*args, **kwargs) from Boost.Python.class\n",
      " |      Create and return a new object.  See help(type) for accurate signature.\n",
      " |  \n",
      " |  ----------------------------------------------------------------------\n",
      " |  Data descriptors inherited from Boost.Python.instance:\n",
      " |  \n",
      " |  __dict__\n",
      " |  \n",
      " |  __weakref__\n",
      "\n"
     ]
    }
   ],
   "source": [
    "help(Chem.rdchem.ResonanceMolSupplier)"
   ]
  }
 ],
 "metadata": {
  "kernelspec": {
   "display_name": "Python 3 (ipykernel)",
   "language": "python",
   "name": "python3"
  },
  "language_info": {
   "codemirror_mode": {
    "name": "ipython",
    "version": 3
   },
   "file_extension": ".py",
   "mimetype": "text/x-python",
   "name": "python",
   "nbconvert_exporter": "python",
   "pygments_lexer": "ipython3",
   "version": "3.7.12"
  }
 },
 "nbformat": 4,
 "nbformat_minor": 5
}
